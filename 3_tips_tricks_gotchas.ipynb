{
 "cells": [
  {
   "cell_type": "markdown",
   "metadata": {
    "collapsed": true
   },
   "source": [
    "This notebook goes over some miscellaneous Python stuff that wasn't covered in the previous notebooks but which is still quite useful to know. It is listed in order of usefulness. If you're new to Python, make sure to read this over before doing the exercises."
   ]
  },
  {
   "cell_type": "markdown",
   "metadata": {},
   "source": [
    "# Gotcha: multiple names pointing to the same data"
   ]
  },
  {
   "cell_type": "markdown",
   "metadata": {},
   "source": [
    "In Python when you assign a name to a data structure that already has a name, assume that both names will point to the same data structure. This is important because if you manipulate the data using one name, the other name will retrieve the manipulated data.\n",
    "\n",
    "For example:"
   ]
  },
  {
   "cell_type": "code",
   "execution_count": 2,
   "metadata": {},
   "outputs": [
    {
     "name": "stdout",
     "output_type": "stream",
     "text": [
      "[0 1 2 3 4 5 6 7 8 9]\n",
      "[0 1 2 3 4 5 6 7 8 9]\n",
      "\n",
      "[ 0  1  2 -1  4  5  6  7  8  9]\n",
      "[ 0  1  2 -1  4  5  6  7  8  9]\n"
     ]
    }
   ],
   "source": [
    "import numpy as np\n",
    "\n",
    "x = np.arange(10)\n",
    "y = x\n",
    "\n",
    "print(x)\n",
    "print(y)\n",
    "\n",
    "# manipulate x\n",
    "x[3] = -1\n",
    "\n",
    "# show y and x\n",
    "print('')\n",
    "print(x)\n",
    "print(y)\n",
    "\n",
    "# notice that both x and y have been manipulated"
   ]
  },
  {
   "cell_type": "code",
   "execution_count": 5,
   "metadata": {},
   "outputs": [
    {
     "name": "stdout",
     "output_type": "stream",
     "text": [
      "['a', 'b', 'c', 'd']\n",
      "['a', 'b', 'c', 'd']\n",
      "\n",
      "['a', 'b', 'z', 'd']\n",
      "['a', 'b', 'z', 'd']\n",
      "\n",
      "{'a': 1, 'b': 2, 'c': 3}\n",
      "{'a': 1, 'b': 2, 'c': 3}\n",
      "\n",
      "{'a': 1, 'b': 100, 'c': 3}\n",
      "{'a': 1, 'b': 100, 'c': 3}\n"
     ]
    }
   ],
   "source": [
    "# this happens with most variable types, but in addition to np arrays\n",
    "# you are most likely to run into this with lists and dicts, e.g.\n",
    "\n",
    "x = ['a', 'b', 'c', 'd']\n",
    "y = x\n",
    "print(x)\n",
    "print(y)\n",
    "\n",
    "x[2] = 'z'\n",
    "\n",
    "print('')\n",
    "print(x)\n",
    "print(y)\n",
    "\n",
    "x = {'a': 1, 'b': 2, 'c': 3}\n",
    "y = x\n",
    "\n",
    "print('')\n",
    "print(x)\n",
    "print(y)\n",
    "\n",
    "x['b'] = 100\n",
    "\n",
    "print('')\n",
    "print(x)\n",
    "print(y)"
   ]
  },
  {
   "cell_type": "markdown",
   "metadata": {},
   "source": [
    "Take-home message: if your code isn't doing what it should be but isn't crashing, make sure you're not accidentally manipulating an array/list/dict using one name and accessing it with another under the assumption it wasn't manipulated.\n",
    "\n",
    "To make variable names point to independent copies of the same data that can be manipulated independently, do the following:"
   ]
  },
  {
   "cell_type": "code",
   "execution_count": 6,
   "metadata": {},
   "outputs": [],
   "source": [
    "# I like to just put this line at the top of every notebook under the imports\n",
    "from copy import deepcopy as copy"
   ]
  },
  {
   "cell_type": "code",
   "execution_count": 7,
   "metadata": {},
   "outputs": [
    {
     "name": "stdout",
     "output_type": "stream",
     "text": [
      "[0 1 2 3 4 5 6 7 8 9]\n",
      "[0 1 2 3 4 5 6 7 8 9]\n",
      "\n",
      "[ 0  1  2 -1  4  5  6  7  8  9]\n",
      "[0 1 2 3 4 5 6 7 8 9]\n"
     ]
    }
   ],
   "source": [
    "import numpy as np\n",
    "\n",
    "x = np.arange(10)\n",
    "y = copy(x)\n",
    "\n",
    "print(x)\n",
    "print(y)\n",
    "\n",
    "# manipulate x\n",
    "x[3] = -1\n",
    "\n",
    "# show y and x\n",
    "print('')\n",
    "print(x)\n",
    "print(y)\n",
    "\n",
    "# notice that now only x has been manipulated"
   ]
  },
  {
   "cell_type": "code",
   "execution_count": 9,
   "metadata": {},
   "outputs": [
    {
     "name": "stdout",
     "output_type": "stream",
     "text": [
      "['a', 'b', 'c', 'd']\n",
      "['a', 'b', 'c', 'd']\n",
      "\n",
      "['a', 'b', 'z', 'd']\n",
      "['a', 'b', 'c', 'd']\n"
     ]
    }
   ],
   "source": [
    "# and with lists/dicts\n",
    "\n",
    "## list example\n",
    "x = ['a', 'b', 'c', 'd']\n",
    "y = copy(x)\n",
    "print(x)\n",
    "print(y)\n",
    "\n",
    "x[2] = 'z'\n",
    "\n",
    "print('')\n",
    "print(x)\n",
    "print(y)\n",
    "\n",
    "# only x has been manipulated"
   ]
  },
  {
   "cell_type": "code",
   "execution_count": 10,
   "metadata": {},
   "outputs": [
    {
     "name": "stdout",
     "output_type": "stream",
     "text": [
      "{'a': 1, 'b': 2, 'c': 3}\n",
      "{'a': 1, 'b': 2, 'c': 3}\n",
      "\n",
      "{'a': 1, 'b': 100, 'c': 3}\n",
      "{'a': 1, 'b': 2, 'c': 3}\n"
     ]
    }
   ],
   "source": [
    "## dict example\n",
    "x = {'a': 1, 'b': 2, 'c': 3}\n",
    "y = copy(x)\n",
    "\n",
    "print(x)\n",
    "print(y)\n",
    "\n",
    "x['b'] = 100\n",
    "\n",
    "print('')\n",
    "print(x)\n",
    "print(y)\n",
    "\n",
    "# only x has been manipulated"
   ]
  },
  {
   "cell_type": "markdown",
   "metadata": {},
   "source": [
    "# Tip: indexing arrays and lists with negative numbers"
   ]
  },
  {
   "cell_type": "code",
   "execution_count": 13,
   "metadata": {},
   "outputs": [
    {
     "name": "stdout",
     "output_type": "stream",
     "text": [
      "d\n",
      "c\n",
      "['b', 'c']\n"
     ]
    }
   ],
   "source": [
    "# you can index lists from the end as well\n",
    "x = ['a', 'b', 'c', 'd']\n",
    "\n",
    "print(x[-1])  # last element\n",
    "print(x[-2])  # second to last elemnet\n",
    "print(x[1:-1])  # sublist from 1 (inclusive) to last element (exclusive)"
   ]
  },
  {
   "cell_type": "code",
   "execution_count": 14,
   "metadata": {},
   "outputs": [
    {
     "name": "stdout",
     "output_type": "stream",
     "text": [
      "13\n",
      "8\n",
      "[1 2 3 5 8]\n"
     ]
    }
   ],
   "source": [
    "# works for arrays too\n",
    "x = np.array([1, 1, 2, 3, 5, 8, 13])\n",
    "\n",
    "print(x[-1])\n",
    "print(x[-2])\n",
    "print(x[1:-1])"
   ]
  },
  {
   "cell_type": "code",
   "execution_count": 15,
   "metadata": {},
   "outputs": [
    {
     "name": "stdout",
     "output_type": "stream",
     "text": [
      "[ 1  1  2  3  5  8 13]\n",
      "[13  8  5  3  2  1  1]\n"
     ]
    }
   ],
   "source": [
    "# you can also reverse a list/array quick using this little trick\n",
    "x_reversed = x[::-1]\n",
    "print(x)\n",
    "print(x_reversed)"
   ]
  },
  {
   "cell_type": "markdown",
   "metadata": {},
   "source": [
    "# Gotcha: multi-dimensional selection in numpy arrays with logical masks"
   ]
  },
  {
   "cell_type": "markdown",
   "metadata": {},
   "source": [
    "If two logical masks are used to index two different dimensions of a numpy array, numpy will attempt to return their intersection, not their outer product:"
   ]
  },
  {
   "cell_type": "code",
   "execution_count": 35,
   "metadata": {},
   "outputs": [
    {
     "name": "stdout",
     "output_type": "stream",
     "text": [
      "[[ 0  1  2  3  4]\n",
      " [ 5  6  7  8  9]\n",
      " [10 11 12 13 14]\n",
      " [15 16 17 18 19]\n",
      " [20 21 22 23 24]]\n"
     ]
    }
   ],
   "source": [
    "x = np.arange(25).reshape(5, 5)\n",
    "\n",
    "print(x)"
   ]
  },
  {
   "cell_type": "code",
   "execution_count": 39,
   "metadata": {},
   "outputs": [
    {
     "name": "stdout",
     "output_type": "stream",
     "text": [
      "[ 5 17 23]\n",
      "\n",
      "[[ 5  7  8]\n",
      " [15 17 18]\n",
      " [20 22 23]]\n"
     ]
    }
   ],
   "source": [
    "mask_0 = [False, True, False, True, True]\n",
    "mask_1 = [True, False, True, True, False]\n",
    "\n",
    "print(x[mask_0, mask_1])\n",
    "print('')\n",
    "\n",
    "# how is that different from the following?\n",
    "print(x[mask_0, :][:, mask_1])"
   ]
  },
  {
   "cell_type": "markdown",
   "metadata": {},
   "source": [
    "# Tip: assert statements\n",
    "Assert statements can be useful to perform sanity checks in a code block, e.g.:"
   ]
  },
  {
   "cell_type": "code",
   "execution_count": 18,
   "metadata": {},
   "outputs": [
    {
     "name": "stdout",
     "output_type": "stream",
     "text": [
      "1.7320508075688772\n",
      "2.0\n"
     ]
    },
    {
     "ename": "AssertionError",
     "evalue": "x must be positive!",
     "output_type": "error",
     "traceback": [
      "\u001b[0;31m---------------------------------------------------------------------------\u001b[0m",
      "\u001b[0;31mAssertionError\u001b[0m                            Traceback (most recent call last)",
      "\u001b[0;32m<ipython-input-18-b4b14f188d3d>\u001b[0m in \u001b[0;36m<module>\u001b[0;34m()\u001b[0m\n\u001b[1;32m      7\u001b[0m \u001b[0mprint\u001b[0m\u001b[0;34m(\u001b[0m\u001b[0mcalc_sqrt\u001b[0m\u001b[0;34m(\u001b[0m\u001b[0;36m3\u001b[0m\u001b[0;34m)\u001b[0m\u001b[0;34m)\u001b[0m\u001b[0;34m\u001b[0m\u001b[0;34m\u001b[0m\u001b[0m\n\u001b[1;32m      8\u001b[0m \u001b[0mprint\u001b[0m\u001b[0;34m(\u001b[0m\u001b[0mcalc_sqrt\u001b[0m\u001b[0;34m(\u001b[0m\u001b[0;36m4\u001b[0m\u001b[0;34m)\u001b[0m\u001b[0;34m)\u001b[0m\u001b[0;34m\u001b[0m\u001b[0;34m\u001b[0m\u001b[0m\n\u001b[0;32m----> 9\u001b[0;31m \u001b[0mprint\u001b[0m\u001b[0;34m(\u001b[0m\u001b[0mcalc_sqrt\u001b[0m\u001b[0;34m(\u001b[0m\u001b[0;34m-\u001b[0m\u001b[0;36m1\u001b[0m\u001b[0;34m)\u001b[0m\u001b[0;34m)\u001b[0m\u001b[0;34m\u001b[0m\u001b[0;34m\u001b[0m\u001b[0m\n\u001b[0m",
      "\u001b[0;32m<ipython-input-18-b4b14f188d3d>\u001b[0m in \u001b[0;36mcalc_sqrt\u001b[0;34m(x)\u001b[0m\n\u001b[1;32m      1\u001b[0m \u001b[0;32mdef\u001b[0m \u001b[0mcalc_sqrt\u001b[0m\u001b[0;34m(\u001b[0m\u001b[0mx\u001b[0m\u001b[0;34m)\u001b[0m\u001b[0;34m:\u001b[0m\u001b[0;34m\u001b[0m\u001b[0;34m\u001b[0m\u001b[0m\n\u001b[1;32m      2\u001b[0m     \u001b[0;34m\"\"\"Calculate square root of a number.\"\"\"\u001b[0m\u001b[0;34m\u001b[0m\u001b[0;34m\u001b[0m\u001b[0m\n\u001b[0;32m----> 3\u001b[0;31m     \u001b[0;32massert\u001b[0m \u001b[0mx\u001b[0m \u001b[0;34m>\u001b[0m \u001b[0;36m0\u001b[0m\u001b[0;34m,\u001b[0m \u001b[0;34m'x must be positive!'\u001b[0m\u001b[0;34m\u001b[0m\u001b[0;34m\u001b[0m\u001b[0m\n\u001b[0m\u001b[1;32m      4\u001b[0m \u001b[0;34m\u001b[0m\u001b[0m\n\u001b[1;32m      5\u001b[0m     \u001b[0;32mreturn\u001b[0m \u001b[0mnp\u001b[0m\u001b[0;34m.\u001b[0m\u001b[0msqrt\u001b[0m\u001b[0;34m(\u001b[0m\u001b[0mx\u001b[0m\u001b[0;34m)\u001b[0m\u001b[0;34m\u001b[0m\u001b[0;34m\u001b[0m\u001b[0m\n",
      "\u001b[0;31mAssertionError\u001b[0m: x must be positive!"
     ]
    }
   ],
   "source": [
    "def calc_sqrt(x):\n",
    "    \"\"\"Calculate square root of a number.\"\"\"\n",
    "    \n",
    "    assert x > 0, 'x must be positive!'\n",
    "    \n",
    "    return np.sqrt(x)\n",
    "\n",
    "print(calc_sqrt(3))\n",
    "print(calc_sqrt(4))\n",
    "print(calc_sqrt(-1))"
   ]
  },
  {
   "cell_type": "markdown",
   "metadata": {},
   "source": [
    "# Tip: running scripts\n",
    "You don't have to run Python code from within a Jupyter notebook. You can also write a Python script and run it from the command line. For example, from the Jupyter homepage, select New-->Terminal, and type\n",
    "\n",
    "`python test_script.py`\n",
    "\n",
    "and hit Enter to run the script `test_script.py`.\n",
    "\n",
    "For practical purposes, usually most scientific code works just fine in a Jupyter notebook, but sometimes running scripts is useful too."
   ]
  },
  {
   "cell_type": "markdown",
   "metadata": {},
   "source": [
    "# Tip: comment blocks"
   ]
  },
  {
   "cell_type": "markdown",
   "metadata": {},
   "source": [
    "You can write blocks of comments by enclosing the block with triple quotes on either end:"
   ]
  },
  {
   "cell_type": "code",
   "execution_count": 31,
   "metadata": {},
   "outputs": [
    {
     "name": "stdout",
     "output_type": "stream",
     "text": [
      "5\n"
     ]
    }
   ],
   "source": [
    "x = 5\n",
    "\"\"\"\n",
    "This is a comment block.\n",
    "Nothing in here is read by the interpreter.\n",
    "\n",
    "They're often used to describe the behavior of a function just below the function\n",
    "definition, in which case they're called a \"docstring\" (documentation string).\n",
    "\n",
    "For example, the function calc_v_rev in neuro.py has a short docstring attached to it.\n",
    "\"\"\"\n",
    "print(x)"
   ]
  },
  {
   "cell_type": "markdown",
   "metadata": {},
   "source": [
    "# Tip: working with CSV files and pandas\n",
    "\n",
    "CSV (comma separated value) files are very useful for storing data because they can be read by both humans and computers with relative ease.\n",
    "\n",
    "Data in CSV files is typically stored in columns, with the first line containing the column titles. Open up the file `example.csv` to take a look."
   ]
  },
  {
   "cell_type": "markdown",
   "metadata": {},
   "source": [
    "We usually work with CSV files using the library `pandas`, which is built around a data structure called a data frame."
   ]
  },
  {
   "cell_type": "code",
   "execution_count": 9,
   "metadata": {},
   "outputs": [
    {
     "data": {
      "text/html": [
       "<div>\n",
       "<style scoped>\n",
       "    .dataframe tbody tr th:only-of-type {\n",
       "        vertical-align: middle;\n",
       "    }\n",
       "\n",
       "    .dataframe tbody tr th {\n",
       "        vertical-align: top;\n",
       "    }\n",
       "\n",
       "    .dataframe thead th {\n",
       "        text-align: right;\n",
       "    }\n",
       "</style>\n",
       "<table border=\"1\" class=\"dataframe\">\n",
       "  <thead>\n",
       "    <tr style=\"text-align: right;\">\n",
       "      <th></th>\n",
       "      <th>x</th>\n",
       "      <th>y</th>\n",
       "      <th>z</th>\n",
       "    </tr>\n",
       "  </thead>\n",
       "  <tbody>\n",
       "    <tr>\n",
       "      <th>0</th>\n",
       "      <td>0.000000</td>\n",
       "      <td>-0.024237</td>\n",
       "      <td>0.384786</td>\n",
       "    </tr>\n",
       "    <tr>\n",
       "      <th>1</th>\n",
       "      <td>0.010101</td>\n",
       "      <td>-0.562092</td>\n",
       "      <td>0.171377</td>\n",
       "    </tr>\n",
       "    <tr>\n",
       "      <th>2</th>\n",
       "      <td>0.020202</td>\n",
       "      <td>-0.234228</td>\n",
       "      <td>0.088689</td>\n",
       "    </tr>\n",
       "    <tr>\n",
       "      <th>3</th>\n",
       "      <td>0.030303</td>\n",
       "      <td>-1.117655</td>\n",
       "      <td>0.219866</td>\n",
       "    </tr>\n",
       "    <tr>\n",
       "      <th>4</th>\n",
       "      <td>0.040404</td>\n",
       "      <td>-1.467024</td>\n",
       "      <td>0.741885</td>\n",
       "    </tr>\n",
       "    <tr>\n",
       "      <th>5</th>\n",
       "      <td>0.050505</td>\n",
       "      <td>0.276765</td>\n",
       "      <td>0.831853</td>\n",
       "    </tr>\n",
       "    <tr>\n",
       "      <th>6</th>\n",
       "      <td>0.060606</td>\n",
       "      <td>-0.618979</td>\n",
       "      <td>0.660646</td>\n",
       "    </tr>\n",
       "    <tr>\n",
       "      <th>7</th>\n",
       "      <td>0.070707</td>\n",
       "      <td>-0.652356</td>\n",
       "      <td>0.161780</td>\n",
       "    </tr>\n",
       "    <tr>\n",
       "      <th>8</th>\n",
       "      <td>0.080808</td>\n",
       "      <td>-1.256188</td>\n",
       "      <td>0.426599</td>\n",
       "    </tr>\n",
       "    <tr>\n",
       "      <th>9</th>\n",
       "      <td>0.090909</td>\n",
       "      <td>-0.300851</td>\n",
       "      <td>0.530083</td>\n",
       "    </tr>\n",
       "    <tr>\n",
       "      <th>10</th>\n",
       "      <td>0.101010</td>\n",
       "      <td>-0.969132</td>\n",
       "      <td>0.613744</td>\n",
       "    </tr>\n",
       "    <tr>\n",
       "      <th>11</th>\n",
       "      <td>0.111111</td>\n",
       "      <td>-1.885926</td>\n",
       "      <td>0.459665</td>\n",
       "    </tr>\n",
       "    <tr>\n",
       "      <th>12</th>\n",
       "      <td>0.121212</td>\n",
       "      <td>1.395944</td>\n",
       "      <td>0.848776</td>\n",
       "    </tr>\n",
       "    <tr>\n",
       "      <th>13</th>\n",
       "      <td>0.131313</td>\n",
       "      <td>-0.238645</td>\n",
       "      <td>0.290199</td>\n",
       "    </tr>\n",
       "    <tr>\n",
       "      <th>14</th>\n",
       "      <td>0.141414</td>\n",
       "      <td>1.880039</td>\n",
       "      <td>0.254126</td>\n",
       "    </tr>\n",
       "    <tr>\n",
       "      <th>15</th>\n",
       "      <td>0.151515</td>\n",
       "      <td>-1.197525</td>\n",
       "      <td>0.905632</td>\n",
       "    </tr>\n",
       "    <tr>\n",
       "      <th>16</th>\n",
       "      <td>0.161616</td>\n",
       "      <td>1.473487</td>\n",
       "      <td>0.801729</td>\n",
       "    </tr>\n",
       "    <tr>\n",
       "      <th>17</th>\n",
       "      <td>0.171717</td>\n",
       "      <td>1.582694</td>\n",
       "      <td>0.702721</td>\n",
       "    </tr>\n",
       "    <tr>\n",
       "      <th>18</th>\n",
       "      <td>0.181818</td>\n",
       "      <td>-0.954789</td>\n",
       "      <td>0.715422</td>\n",
       "    </tr>\n",
       "    <tr>\n",
       "      <th>19</th>\n",
       "      <td>0.191919</td>\n",
       "      <td>-0.438901</td>\n",
       "      <td>0.908196</td>\n",
       "    </tr>\n",
       "    <tr>\n",
       "      <th>20</th>\n",
       "      <td>0.202020</td>\n",
       "      <td>-1.124844</td>\n",
       "      <td>0.208282</td>\n",
       "    </tr>\n",
       "    <tr>\n",
       "      <th>21</th>\n",
       "      <td>0.212121</td>\n",
       "      <td>2.024609</td>\n",
       "      <td>0.241024</td>\n",
       "    </tr>\n",
       "    <tr>\n",
       "      <th>22</th>\n",
       "      <td>0.222222</td>\n",
       "      <td>-0.505784</td>\n",
       "      <td>0.820819</td>\n",
       "    </tr>\n",
       "    <tr>\n",
       "      <th>23</th>\n",
       "      <td>0.232323</td>\n",
       "      <td>-0.482897</td>\n",
       "      <td>0.409860</td>\n",
       "    </tr>\n",
       "    <tr>\n",
       "      <th>24</th>\n",
       "      <td>0.242424</td>\n",
       "      <td>0.427903</td>\n",
       "      <td>0.409376</td>\n",
       "    </tr>\n",
       "    <tr>\n",
       "      <th>25</th>\n",
       "      <td>0.252525</td>\n",
       "      <td>0.139413</td>\n",
       "      <td>0.275990</td>\n",
       "    </tr>\n",
       "    <tr>\n",
       "      <th>26</th>\n",
       "      <td>0.262626</td>\n",
       "      <td>1.973972</td>\n",
       "      <td>0.114672</td>\n",
       "    </tr>\n",
       "    <tr>\n",
       "      <th>27</th>\n",
       "      <td>0.272727</td>\n",
       "      <td>-0.384235</td>\n",
       "      <td>0.952007</td>\n",
       "    </tr>\n",
       "    <tr>\n",
       "      <th>28</th>\n",
       "      <td>0.282828</td>\n",
       "      <td>-0.730682</td>\n",
       "      <td>0.032450</td>\n",
       "    </tr>\n",
       "    <tr>\n",
       "      <th>29</th>\n",
       "      <td>0.292929</td>\n",
       "      <td>0.385569</td>\n",
       "      <td>0.265888</td>\n",
       "    </tr>\n",
       "    <tr>\n",
       "      <th>...</th>\n",
       "      <td>...</td>\n",
       "      <td>...</td>\n",
       "      <td>...</td>\n",
       "    </tr>\n",
       "    <tr>\n",
       "      <th>70</th>\n",
       "      <td>0.707071</td>\n",
       "      <td>-0.412845</td>\n",
       "      <td>0.666815</td>\n",
       "    </tr>\n",
       "    <tr>\n",
       "      <th>71</th>\n",
       "      <td>0.717172</td>\n",
       "      <td>0.151790</td>\n",
       "      <td>0.399030</td>\n",
       "    </tr>\n",
       "    <tr>\n",
       "      <th>72</th>\n",
       "      <td>0.727273</td>\n",
       "      <td>-0.799047</td>\n",
       "      <td>0.792355</td>\n",
       "    </tr>\n",
       "    <tr>\n",
       "      <th>73</th>\n",
       "      <td>0.737374</td>\n",
       "      <td>-1.143786</td>\n",
       "      <td>0.892630</td>\n",
       "    </tr>\n",
       "    <tr>\n",
       "      <th>74</th>\n",
       "      <td>0.747475</td>\n",
       "      <td>0.691370</td>\n",
       "      <td>0.712909</td>\n",
       "    </tr>\n",
       "    <tr>\n",
       "      <th>75</th>\n",
       "      <td>0.757576</td>\n",
       "      <td>0.242746</td>\n",
       "      <td>0.953853</td>\n",
       "    </tr>\n",
       "    <tr>\n",
       "      <th>76</th>\n",
       "      <td>0.767677</td>\n",
       "      <td>1.298002</td>\n",
       "      <td>0.328666</td>\n",
       "    </tr>\n",
       "    <tr>\n",
       "      <th>77</th>\n",
       "      <td>0.777778</td>\n",
       "      <td>1.268312</td>\n",
       "      <td>0.749936</td>\n",
       "    </tr>\n",
       "    <tr>\n",
       "      <th>78</th>\n",
       "      <td>0.787879</td>\n",
       "      <td>1.008457</td>\n",
       "      <td>0.950633</td>\n",
       "    </tr>\n",
       "    <tr>\n",
       "      <th>79</th>\n",
       "      <td>0.797980</td>\n",
       "      <td>1.390857</td>\n",
       "      <td>0.826076</td>\n",
       "    </tr>\n",
       "    <tr>\n",
       "      <th>80</th>\n",
       "      <td>0.808081</td>\n",
       "      <td>-0.566337</td>\n",
       "      <td>0.552834</td>\n",
       "    </tr>\n",
       "    <tr>\n",
       "      <th>81</th>\n",
       "      <td>0.818182</td>\n",
       "      <td>1.902460</td>\n",
       "      <td>0.127314</td>\n",
       "    </tr>\n",
       "    <tr>\n",
       "      <th>82</th>\n",
       "      <td>0.828283</td>\n",
       "      <td>1.662436</td>\n",
       "      <td>0.329950</td>\n",
       "    </tr>\n",
       "    <tr>\n",
       "      <th>83</th>\n",
       "      <td>0.838384</td>\n",
       "      <td>1.134196</td>\n",
       "      <td>0.065645</td>\n",
       "    </tr>\n",
       "    <tr>\n",
       "      <th>84</th>\n",
       "      <td>0.848485</td>\n",
       "      <td>0.333106</td>\n",
       "      <td>0.322650</td>\n",
       "    </tr>\n",
       "    <tr>\n",
       "      <th>85</th>\n",
       "      <td>0.858586</td>\n",
       "      <td>0.690878</td>\n",
       "      <td>0.467228</td>\n",
       "    </tr>\n",
       "    <tr>\n",
       "      <th>86</th>\n",
       "      <td>0.868687</td>\n",
       "      <td>-0.044823</td>\n",
       "      <td>0.583872</td>\n",
       "    </tr>\n",
       "    <tr>\n",
       "      <th>87</th>\n",
       "      <td>0.878788</td>\n",
       "      <td>-2.131071</td>\n",
       "      <td>0.452495</td>\n",
       "    </tr>\n",
       "    <tr>\n",
       "      <th>88</th>\n",
       "      <td>0.888889</td>\n",
       "      <td>0.291384</td>\n",
       "      <td>0.121135</td>\n",
       "    </tr>\n",
       "    <tr>\n",
       "      <th>89</th>\n",
       "      <td>0.898990</td>\n",
       "      <td>-0.311074</td>\n",
       "      <td>0.777147</td>\n",
       "    </tr>\n",
       "    <tr>\n",
       "      <th>90</th>\n",
       "      <td>0.909091</td>\n",
       "      <td>-0.950692</td>\n",
       "      <td>0.312483</td>\n",
       "    </tr>\n",
       "    <tr>\n",
       "      <th>91</th>\n",
       "      <td>0.919192</td>\n",
       "      <td>0.822499</td>\n",
       "      <td>0.246070</td>\n",
       "    </tr>\n",
       "    <tr>\n",
       "      <th>92</th>\n",
       "      <td>0.929293</td>\n",
       "      <td>1.782082</td>\n",
       "      <td>0.021814</td>\n",
       "    </tr>\n",
       "    <tr>\n",
       "      <th>93</th>\n",
       "      <td>0.939394</td>\n",
       "      <td>0.995982</td>\n",
       "      <td>0.526034</td>\n",
       "    </tr>\n",
       "    <tr>\n",
       "      <th>94</th>\n",
       "      <td>0.949495</td>\n",
       "      <td>-1.061384</td>\n",
       "      <td>0.674768</td>\n",
       "    </tr>\n",
       "    <tr>\n",
       "      <th>95</th>\n",
       "      <td>0.959596</td>\n",
       "      <td>-0.011558</td>\n",
       "      <td>0.394566</td>\n",
       "    </tr>\n",
       "    <tr>\n",
       "      <th>96</th>\n",
       "      <td>0.969697</td>\n",
       "      <td>1.154849</td>\n",
       "      <td>0.859742</td>\n",
       "    </tr>\n",
       "    <tr>\n",
       "      <th>97</th>\n",
       "      <td>0.979798</td>\n",
       "      <td>-1.557279</td>\n",
       "      <td>0.031060</td>\n",
       "    </tr>\n",
       "    <tr>\n",
       "      <th>98</th>\n",
       "      <td>0.989899</td>\n",
       "      <td>-0.015347</td>\n",
       "      <td>0.683564</td>\n",
       "    </tr>\n",
       "    <tr>\n",
       "      <th>99</th>\n",
       "      <td>1.000000</td>\n",
       "      <td>-0.159254</td>\n",
       "      <td>0.967952</td>\n",
       "    </tr>\n",
       "  </tbody>\n",
       "</table>\n",
       "<p>100 rows × 3 columns</p>\n",
       "</div>"
      ],
      "text/plain": [
       "           x         y         z\n",
       "0   0.000000 -0.024237  0.384786\n",
       "1   0.010101 -0.562092  0.171377\n",
       "2   0.020202 -0.234228  0.088689\n",
       "3   0.030303 -1.117655  0.219866\n",
       "4   0.040404 -1.467024  0.741885\n",
       "5   0.050505  0.276765  0.831853\n",
       "6   0.060606 -0.618979  0.660646\n",
       "7   0.070707 -0.652356  0.161780\n",
       "8   0.080808 -1.256188  0.426599\n",
       "9   0.090909 -0.300851  0.530083\n",
       "10  0.101010 -0.969132  0.613744\n",
       "11  0.111111 -1.885926  0.459665\n",
       "12  0.121212  1.395944  0.848776\n",
       "13  0.131313 -0.238645  0.290199\n",
       "14  0.141414  1.880039  0.254126\n",
       "15  0.151515 -1.197525  0.905632\n",
       "16  0.161616  1.473487  0.801729\n",
       "17  0.171717  1.582694  0.702721\n",
       "18  0.181818 -0.954789  0.715422\n",
       "19  0.191919 -0.438901  0.908196\n",
       "20  0.202020 -1.124844  0.208282\n",
       "21  0.212121  2.024609  0.241024\n",
       "22  0.222222 -0.505784  0.820819\n",
       "23  0.232323 -0.482897  0.409860\n",
       "24  0.242424  0.427903  0.409376\n",
       "25  0.252525  0.139413  0.275990\n",
       "26  0.262626  1.973972  0.114672\n",
       "27  0.272727 -0.384235  0.952007\n",
       "28  0.282828 -0.730682  0.032450\n",
       "29  0.292929  0.385569  0.265888\n",
       "..       ...       ...       ...\n",
       "70  0.707071 -0.412845  0.666815\n",
       "71  0.717172  0.151790  0.399030\n",
       "72  0.727273 -0.799047  0.792355\n",
       "73  0.737374 -1.143786  0.892630\n",
       "74  0.747475  0.691370  0.712909\n",
       "75  0.757576  0.242746  0.953853\n",
       "76  0.767677  1.298002  0.328666\n",
       "77  0.777778  1.268312  0.749936\n",
       "78  0.787879  1.008457  0.950633\n",
       "79  0.797980  1.390857  0.826076\n",
       "80  0.808081 -0.566337  0.552834\n",
       "81  0.818182  1.902460  0.127314\n",
       "82  0.828283  1.662436  0.329950\n",
       "83  0.838384  1.134196  0.065645\n",
       "84  0.848485  0.333106  0.322650\n",
       "85  0.858586  0.690878  0.467228\n",
       "86  0.868687 -0.044823  0.583872\n",
       "87  0.878788 -2.131071  0.452495\n",
       "88  0.888889  0.291384  0.121135\n",
       "89  0.898990 -0.311074  0.777147\n",
       "90  0.909091 -0.950692  0.312483\n",
       "91  0.919192  0.822499  0.246070\n",
       "92  0.929293  1.782082  0.021814\n",
       "93  0.939394  0.995982  0.526034\n",
       "94  0.949495 -1.061384  0.674768\n",
       "95  0.959596 -0.011558  0.394566\n",
       "96  0.969697  1.154849  0.859742\n",
       "97  0.979798 -1.557279  0.031060\n",
       "98  0.989899 -0.015347  0.683564\n",
       "99  1.000000 -0.159254  0.967952\n",
       "\n",
       "[100 rows x 3 columns]"
      ]
     },
     "execution_count": 9,
     "metadata": {},
     "output_type": "execute_result"
    }
   ],
   "source": [
    "import pandas as pd\n",
    "\n",
    "df = pd.read_csv('example.csv')\n",
    "df"
   ]
  },
  {
   "cell_type": "code",
   "execution_count": 15,
   "metadata": {},
   "outputs": [
    {
     "data": {
      "text/plain": [
       "Text(0,0.5,'y')"
      ]
     },
     "execution_count": 15,
     "metadata": {},
     "output_type": "execute_result"
    },
    {
     "name": "stderr",
     "output_type": "stream",
     "text": [
      "/home/melete/miniconda3/envs/py3/lib/python3.6/site-packages/matplotlib/figure.py:2299: UserWarning: This figure includes Axes that are not compatible with tight_layout, so results might be incorrect.\n",
      "  warnings.warn(\"This figure includes Axes that are not compatible \"\n"
     ]
    },
    {
     "data": {
      "image/png": "[encoded data removed]",
      "text/plain": [
       "<Figure size 432x216 with 1 Axes>"
      ]
     },
     "metadata": {},
     "output_type": "display_data"
    }
   ],
   "source": [
    "%matplotlib inline\n",
    "import matplotlib.pyplot as plt\n",
    "\n",
    "# data in a dataframe is referenced by column and easily be plotted\n",
    "x = df['x']\n",
    "y = df['y']\n",
    "\n",
    "fig, ax = plt.subplots(1, 1, figsize=(6, 3), tight_layout=True)\n",
    "ax.plot(x, y)\n",
    "ax.set_xlabel('x')\n",
    "ax.set_ylabel('y')"
   ]
  },
  {
   "cell_type": "code",
   "execution_count": 18,
   "metadata": {},
   "outputs": [
    {
     "name": "stdout",
     "output_type": "stream",
     "text": [
      "x    0.500000\n",
      "y    0.026694\n",
      "z    0.502765\n",
      "dtype: float64\n",
      "\n",
      "x    0.293045\n",
      "y    0.963959\n",
      "z    0.289085\n",
      "dtype: float64\n"
     ]
    }
   ],
   "source": [
    "# dataframes also have a lot of built-in functions\n",
    "print(df.mean())\n",
    "print('')\n",
    "print(df.std())"
   ]
  },
  {
   "cell_type": "code",
   "execution_count": 19,
   "metadata": {},
   "outputs": [
    {
     "data": {
      "text/html": [
       "<div>\n",
       "<style scoped>\n",
       "    .dataframe tbody tr th:only-of-type {\n",
       "        vertical-align: middle;\n",
       "    }\n",
       "\n",
       "    .dataframe tbody tr th {\n",
       "        vertical-align: top;\n",
       "    }\n",
       "\n",
       "    .dataframe thead th {\n",
       "        text-align: right;\n",
       "    }\n",
       "</style>\n",
       "<table border=\"1\" class=\"dataframe\">\n",
       "  <thead>\n",
       "    <tr style=\"text-align: right;\">\n",
       "      <th></th>\n",
       "      <th>a</th>\n",
       "      <th>b</th>\n",
       "    </tr>\n",
       "  </thead>\n",
       "  <tbody>\n",
       "    <tr>\n",
       "      <th>0</th>\n",
       "      <td>0.000000</td>\n",
       "      <td>0.401264</td>\n",
       "    </tr>\n",
       "    <tr>\n",
       "      <th>1</th>\n",
       "      <td>0.111111</td>\n",
       "      <td>0.966633</td>\n",
       "    </tr>\n",
       "    <tr>\n",
       "      <th>2</th>\n",
       "      <td>0.222222</td>\n",
       "      <td>0.352949</td>\n",
       "    </tr>\n",
       "    <tr>\n",
       "      <th>3</th>\n",
       "      <td>0.333333</td>\n",
       "      <td>0.940713</td>\n",
       "    </tr>\n",
       "    <tr>\n",
       "      <th>4</th>\n",
       "      <td>0.444444</td>\n",
       "      <td>0.086238</td>\n",
       "    </tr>\n",
       "    <tr>\n",
       "      <th>5</th>\n",
       "      <td>0.555556</td>\n",
       "      <td>0.891357</td>\n",
       "    </tr>\n",
       "    <tr>\n",
       "      <th>6</th>\n",
       "      <td>0.666667</td>\n",
       "      <td>0.886064</td>\n",
       "    </tr>\n",
       "    <tr>\n",
       "      <th>7</th>\n",
       "      <td>0.777778</td>\n",
       "      <td>0.374271</td>\n",
       "    </tr>\n",
       "    <tr>\n",
       "      <th>8</th>\n",
       "      <td>0.888889</td>\n",
       "      <td>0.008156</td>\n",
       "    </tr>\n",
       "    <tr>\n",
       "      <th>9</th>\n",
       "      <td>1.000000</td>\n",
       "      <td>0.455407</td>\n",
       "    </tr>\n",
       "  </tbody>\n",
       "</table>\n",
       "</div>"
      ],
      "text/plain": [
       "          a         b\n",
       "0  0.000000  0.401264\n",
       "1  0.111111  0.966633\n",
       "2  0.222222  0.352949\n",
       "3  0.333333  0.940713\n",
       "4  0.444444  0.086238\n",
       "5  0.555556  0.891357\n",
       "6  0.666667  0.886064\n",
       "7  0.777778  0.374271\n",
       "8  0.888889  0.008156\n",
       "9  1.000000  0.455407"
      ]
     },
     "execution_count": 19,
     "metadata": {},
     "output_type": "execute_result"
    }
   ],
   "source": [
    "import numpy as np\n",
    "\n",
    "# we can create a new data frame like this\n",
    "a = np.linspace(0, 1, 10)\n",
    "b = np.random.uniform(0, 1, 10)\n",
    "\n",
    "df = pd.DataFrame(data={'a': a, 'b': b}, columns=['a', 'b'])\n",
    "df"
   ]
  },
  {
   "cell_type": "markdown",
   "metadata": {},
   "source": [
    "Note: the first column is called the index, and is essentially just a way of referencing rows."
   ]
  },
  {
   "cell_type": "code",
   "execution_count": 20,
   "metadata": {},
   "outputs": [
    {
     "data": {
      "text/plain": [
       "a    0.333333\n",
       "b    0.940713\n",
       "Name: 3, dtype: float64"
      ]
     },
     "execution_count": 20,
     "metadata": {},
     "output_type": "execute_result"
    }
   ],
   "source": [
    "# you can reference the data in a given row as follows\n",
    "df.loc[3]"
   ]
  },
  {
   "cell_type": "code",
   "execution_count": 21,
   "metadata": {},
   "outputs": [
    {
     "data": {
      "text/html": [
       "<div>\n",
       "<style scoped>\n",
       "    .dataframe tbody tr th:only-of-type {\n",
       "        vertical-align: middle;\n",
       "    }\n",
       "\n",
       "    .dataframe tbody tr th {\n",
       "        vertical-align: top;\n",
       "    }\n",
       "\n",
       "    .dataframe thead th {\n",
       "        text-align: right;\n",
       "    }\n",
       "</style>\n",
       "<table border=\"1\" class=\"dataframe\">\n",
       "  <thead>\n",
       "    <tr style=\"text-align: right;\">\n",
       "      <th></th>\n",
       "      <th>a</th>\n",
       "      <th>b</th>\n",
       "    </tr>\n",
       "  </thead>\n",
       "  <tbody>\n",
       "    <tr>\n",
       "      <th>3</th>\n",
       "      <td>0.333333</td>\n",
       "      <td>0.940713</td>\n",
       "    </tr>\n",
       "    <tr>\n",
       "      <th>4</th>\n",
       "      <td>0.444444</td>\n",
       "      <td>0.086238</td>\n",
       "    </tr>\n",
       "    <tr>\n",
       "      <th>5</th>\n",
       "      <td>0.555556</td>\n",
       "      <td>0.891357</td>\n",
       "    </tr>\n",
       "    <tr>\n",
       "      <th>6</th>\n",
       "      <td>0.666667</td>\n",
       "      <td>0.886064</td>\n",
       "    </tr>\n",
       "    <tr>\n",
       "      <th>7</th>\n",
       "      <td>0.777778</td>\n",
       "      <td>0.374271</td>\n",
       "    </tr>\n",
       "  </tbody>\n",
       "</table>\n",
       "</div>"
      ],
      "text/plain": [
       "          a         b\n",
       "3  0.333333  0.940713\n",
       "4  0.444444  0.086238\n",
       "5  0.555556  0.891357\n",
       "6  0.666667  0.886064\n",
       "7  0.777778  0.374271"
      ]
     },
     "execution_count": 21,
     "metadata": {},
     "output_type": "execute_result"
    }
   ],
   "source": [
    "df.loc[3:7]"
   ]
  },
  {
   "cell_type": "code",
   "execution_count": null,
   "metadata": {},
   "outputs": [],
   "source": [
    "# we can save our data frame like this\n",
    "df.to_csv('my_new_data.csv', index=False)  # index=False prevents the index col from being saved\n",
    "\n",
    "# now take a look at the file my_new_data.csv "
   ]
  },
  {
   "cell_type": "markdown",
   "metadata": {},
   "source": [
    "Check out this tutorial if you want to learn more about using pandas.\n",
    "\n",
    "https://pandas.pydata.org/pandas-docs/stable/tutorials.html"
   ]
  },
  {
   "cell_type": "markdown",
   "metadata": {},
   "source": [
    "# Tip: List comprehensions"
   ]
  },
  {
   "cell_type": "code",
   "execution_count": 24,
   "metadata": {},
   "outputs": [
    {
     "name": "stdout",
     "output_type": "stream",
     "text": [
      "[0, 1, 4, 9, 16, 25, 36, 49, 64, 81]\n"
     ]
    }
   ],
   "source": [
    "# there's a specific \"Pythonic\" short-hand for making simple lists in one line that can be useful\n",
    "# these are called \"list comprehensions\"\n",
    "# Example:\n",
    "\n",
    "my_list = []\n",
    "\n",
    "for ctr in range(10):\n",
    "    my_list.append(ctr ** 2)\n",
    "    \n",
    "# can be replaced by simply\n",
    "my_list = [ctr**2 for ctr in range(10)]\n",
    "\n",
    "# the last bit (range(10)) is the thing you're looping over\n",
    "# the middle bit (ctr) is the name of the counter variable\n",
    "# the first bit (ctr ** 2) is expression to create each list element from the counter variable\n",
    "\n",
    "print(my_list)"
   ]
  },
  {
   "cell_type": "markdown",
   "metadata": {},
   "source": [
    "# Tip: renaming functions"
   ]
  },
  {
   "cell_type": "code",
   "execution_count": 23,
   "metadata": {},
   "outputs": [
    {
     "name": "stdout",
     "output_type": "stream",
     "text": [
      "[ 0  1  2  9 10 11]\n",
      "[ 0  1  2  9 10 11]\n"
     ]
    }
   ],
   "source": [
    "# Everything in Python is an \"object\", including functions. \n",
    "# This means you can rename them, which can be convenient. Example\n",
    "x = [0, 1, 2]\n",
    "y = [9, 10, 11]\n",
    "\n",
    "z = np.concatenate([x, y])\n",
    "print(z)\n",
    "\n",
    "cc = np.concatenate\n",
    "z = cc([x, y])\n",
    "print(z)"
   ]
  },
  {
   "cell_type": "markdown",
   "metadata": {},
   "source": [
    "# Tip: chaining object methods together"
   ]
  },
  {
   "cell_type": "markdown",
   "metadata": {},
   "source": [
    "Python \"objects\" have \"methods\" attached, which serve as an alternative to calling functions with those object as input. What's nice is that such methods can be chained together. For example:"
   ]
  },
  {
   "cell_type": "code",
   "execution_count": 44,
   "metadata": {},
   "outputs": [
    {
     "name": "stdout",
     "output_type": "stream",
     "text": [
      "[[ 1.53930183 -0.62283154  1.0897289  -0.81893939 -0.29081363]\n",
      " [-2.27318518 -0.50014081  1.03110007 -0.61394728 -0.20053145]\n",
      " [-1.1516657  -0.18206625 -1.23340683  0.43412937 -0.21994416]\n",
      " [-1.19419078  0.71320511  1.98323986  0.6880815  -0.2301098 ]\n",
      " [-2.62347585 -1.23398133  1.35567226  0.07603357 -1.10348747]]\n",
      "\n",
      "[1.46058469 0.63810024 1.09276495 0.58382997 0.34856386]\n",
      "\n",
      "0.8247687411897301\n"
     ]
    }
   ],
   "source": [
    "x = np.random.normal(0, 1, (5, 5))\n",
    "\n",
    "print(x)\n",
    "print('')\n",
    "\n",
    "x_std_row = x.std(axis=0)\n",
    "\n",
    "print(x_std_row)\n",
    "print('')\n",
    "\n",
    "x_mean_std =x.std(axis=0).mean()\n",
    "\n",
    "print(x_mean_std)"
   ]
  },
  {
   "cell_type": "markdown",
   "metadata": {},
   "source": [
    "# Tip: plotting\n",
    "\n",
    "`matplotlib` is very flexible, but the plotting commands are often lengthy and complicated.\n",
    "\n",
    "If you want to make a specific plot component (e.g. histogram, heatmap, colorbar, etc), check out the examples in the [matplotlib gallery](https://matplotlib.org/gallery.html) to see how they're made."
   ]
  },
  {
   "cell_type": "markdown",
   "metadata": {},
   "source": [
    "# Tip: setting figure panel font sizes\n",
    "\n",
    "Feel free to use the following function to resize all basic text elements on a plot."
   ]
  },
  {
   "cell_type": "code",
   "execution_count": 25,
   "metadata": {},
   "outputs": [],
   "source": [
    "def set_font_size(ax, font_size, legend_font_size=None):\n",
    "    \"\"\"Set font_size of all axis text objects to specified value.\"\"\"\n",
    "\n",
    "    texts = [ax.title, ax.xaxis.label, ax.yaxis.label] + \\\n",
    "        ax.get_xticklabels() + ax.get_yticklabels()\n",
    "\n",
    "    for text in texts:\n",
    "        text.set_fontsize(font_size)\n",
    "\n",
    "    if ax.get_legend():\n",
    "        if not legend_font_size:\n",
    "            legend_font_size = font_size\n",
    "        for text in ax.get_legend().get_texts():\n",
    "            text.set_fontsize(legend_font_size)"
   ]
  },
  {
   "cell_type": "code",
   "execution_count": 29,
   "metadata": {},
   "outputs": [
    {
     "data": {
      "image/png": "[encoded data removed]",
      "text/plain": [
       "<Figure size 720x504 with 1 Axes>"
      ]
     },
     "metadata": {},
     "output_type": "display_data"
    }
   ],
   "source": [
    "# example usage\n",
    "fig, ax = plt.subplots(1, 1, figsize=(10, 7))\n",
    "ax.plot(np.random.normal(0, 1, 100), c='b')\n",
    "ax.plot(np.random.normal(1, 1, 100), c='r')\n",
    "ax.set_xlabel('Time (ms)')\n",
    "ax.set_ylabel('Value')\n",
    "ax.set_title('My plot')\n",
    "ax.legend(['x', 'y'])\n",
    "\n",
    "set_font_size(ax, 24, legend_font_size=20)"
   ]
  },
  {
   "cell_type": "markdown",
   "metadata": {},
   "source": [
    "# Best practices"
   ]
  },
  {
   "cell_type": "markdown",
   "metadata": {},
   "source": [
    "There are a lot of good practices that will improve your scientific coding experience."
   ]
  },
  {
   "cell_type": "markdown",
   "metadata": {},
   "source": [
    "# Best practice: Variable naming\n",
    "\n",
    "Use concise but unambiguous variable names. For example `ctr` is a good name for a for-loop counter.\n",
    "\n",
    "`neurs` or `nrns` could be a good name for a list of neurons, with `neur` or `nrn` referencing a specific individual."
   ]
  },
  {
   "cell_type": "markdown",
   "metadata": {},
   "source": [
    "# Best practice: Write code incrementally"
   ]
  },
  {
   "cell_type": "markdown",
   "metadata": {},
   "source": [
    "Test each little bit of your code after you write it. If you only test it's completely written it can be much harder to identify the sources of errors."
   ]
  },
  {
   "cell_type": "markdown",
   "metadata": {},
   "source": [
    "# Best practice: Validate your code\n",
    "\n",
    "Ideally before jumping to conclusions based on its results.\n",
    "\n",
    "It's unfortunately common for code to run without throwing errors but to still not do what you want it to.\n",
    "\n",
    "The best ways of validating your code efficiently are:\n",
    "\n",
    "1. Inspecting your code, i.e. literally re-reading it line-by-line. This has been shown to catch a huge number of errors and doesn't add any extra moving parts.\n",
    "2. Test your code using scientific controls. If your function is quantifying some property of a simulation result, for instance, test it on mock simulation results that have known values of that property before testing it on your real simulation result.\n",
    "3. If there's not an obvious way to test your code with scientific controls, test each of its main components independently first."
   ]
  },
  {
   "cell_type": "markdown",
   "metadata": {},
   "source": [
    "# Best practice: Keep a sandbox notebook for messing around"
   ]
  },
  {
   "cell_type": "markdown",
   "metadata": {},
   "source": [
    "Sometimes you just need to fool around with a code block to get it working correctly, or to see how a specific function works. I find it useful to have a notebook called `sandbox` for just this purposes. And once I'm done with it I let it be washed away by the sea."
   ]
  },
  {
   "cell_type": "markdown",
   "metadata": {},
   "source": [
    "# Best practice: Look stuff up online\n",
    "\n",
    "Most operations you'll need have already been implemented in Python. The best way to figure out how to use them is to look them up on Google!\n",
    "\n",
    "A secret among coders is that most people who are good at coding are essentially just good at looking up answers on the internet"
   ]
  },
  {
   "cell_type": "markdown",
   "metadata": {},
   "source": [
    "# Best practice: Test out functions from known libraries before using them\n",
    "\n",
    "It's not always clear exactly how a function has been implemented, e.g. what order the arguments are in. Make sure to test a new function on example cases with known input-output pairs so you know exactly how it works before incorporating it into your scientific code."
   ]
  },
  {
   "cell_type": "markdown",
   "metadata": {},
   "source": [
    "# Best practice: Debug with pdb\n",
    "\n",
    "There's a great little debugging tool called pdb, if you want to spend a few minutes learning it. It works within Jupyter and can be very useful for exploring what's derailing your code exactly where it's being derailed. \n",
    "\n",
    "Use the command \"l\" to show where you're at, \"n\" to run the next line, \"q\" to quit, etc.\n",
    "\n",
    "More details here: https://docs.python.org/3/library/pdb.html.\n",
    "\n",
    "`import pdb; pdb.set_trace()` is your friend.\n",
    "\n",
    "`pdb.pm()` is your other friend."
   ]
  },
  {
   "cell_type": "markdown",
   "metadata": {},
   "source": [
    "# Best practice: define goals and make plans\n",
    "\n",
    "It often helps to develop a very clear picture of the code you're trying to write before beginning to write it. One concrete example is by identifying exactly what a function will take as input and return as output before writing the guts of the function.\n",
    "\n",
    "More generally, if your code might get a little complicated, planning out how you're going to organize ahead of time, through diagrams or pseudocode, for example, can save you plenty of time in the long run."
   ]
  }
 ],
 "metadata": {
  "kernelspec": {
   "display_name": "Python 3",
   "language": "python",
   "name": "python3"
  },
  "language_info": {
   "codemirror_mode": {
    "name": "ipython",
    "version": 3
   },
   "file_extension": ".py",
   "mimetype": "text/x-python",
   "name": "python",
   "nbconvert_exporter": "python",
   "pygments_lexer": "ipython3",
   "version": "3.6.7"
  }
 },
 "nbformat": 4,
 "nbformat_minor": 2
}
