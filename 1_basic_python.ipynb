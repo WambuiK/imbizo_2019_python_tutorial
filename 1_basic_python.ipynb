{
 "cells": [
  {
   "cell_type": "markdown",
   "metadata": {},
   "source": [
    "In this notebook we'll go over the basics of using Python for all your scientific needs.\n",
    "\n",
    "Jupyter Notebooks are comprised of \"cells\". These are typically either text or code cells, making it easy to interleave exposition with code and figures. This cell and the one that follows, for instance, are text cell. The next one is a code cell. You can change a cell's type in the Cell menu.\n",
    "\n",
    "Code cells can be edited by clicking inside them, and text cells by double-clicking. Cells are run using either CTRL + ENTER (focus remains on this cell) or SHIFT + ENTER (focus moves to next cell, useful when running a sequence of cells). \n",
    "\n",
    "Try adding some text to this cell.\n",
    "\n",
    "Then run each of the code cells below and do the exercises, following the instructions in the comments and text cells as you go."
   ]
  },
  {
   "cell_type": "markdown",
   "metadata": {},
   "source": [
    "# Variables\n",
    "Like most programming languages, Python uses variables to store data. Take a look."
   ]
  },
  {
   "cell_type": "code",
   "execution_count": 1,
   "metadata": {
    "collapsed": false
   },
   "outputs": [
    {
     "name": "stdout",
     "output_type": "stream",
     "text": [
      "my_int = 5\n",
      "my_float = 4.3\n",
      "my_str = hello\n",
      "my_list = [1, 2, 'hi', 4.1]\n"
     ]
    }
   ],
   "source": [
    "my_int = 5\n",
    "my_float = 4.3\n",
    "my_str = 'hello'\n",
    "my_list = [1, 2, 'hi', 4.1]\n",
    "\n",
    "# now let's print out the variables (this is a comment, by the way, because it starts with \"#\")\n",
    "print('my_int =', my_int)\n",
    "print('my_float =', my_float)\n",
    "print('my_str =', my_str)\n",
    "print('my_list =', my_list)  # note: lists are ordered and can contain any variable types within (even other lists!)\n",
    "\n",
    "# now run the cell with CTRL + ENTER or SHIFT + ENTER"
   ]
  },
  {
   "cell_type": "code",
   "execution_count": 2,
   "metadata": {
    "collapsed": false
   },
   "outputs": [
    {
     "name": "stdout",
     "output_type": "stream",
     "text": [
      "my_new_int = 12\n",
      "my_new_float = 0.0\n",
      "my_new_str = hello friend\n",
      "my_new_list = [1, 2, 'hi', 4.1, 3, 6, 1, 'neuron']\n"
     ]
    }
   ],
   "source": [
    "# we can manipulate variables too\n",
    "my_new_int = my_int + 7\n",
    "my_new_float = my_float - 4.3\n",
    "my_new_str = my_str + ' friend'\n",
    "my_new_list = my_list + [3, 6, 1, 'neuron']\n",
    "\n",
    "print('my_new_int =', my_new_int)\n",
    "print('my_new_float =', my_new_float)\n",
    "print('my_new_str =', my_new_str)\n",
    "print('my_new_list =', my_new_list)"
   ]
  },
  {
   "cell_type": "code",
   "execution_count": 3,
   "metadata": {
    "collapsed": false
   },
   "outputs": [
    {
     "data": {
      "text/plain": [
       "[1, 2, 'hi', 4.1, 3, 6, 1, 'neuron']"
      ]
     },
     "execution_count": 3,
     "metadata": {},
     "output_type": "execute_result"
    }
   ],
   "source": [
    "# you can also print out a variable by just writing it at the bottom of a cell, for example:\n",
    "my_new_list"
   ]
  },
  {
   "cell_type": "code",
   "execution_count": 4,
   "metadata": {
    "collapsed": false
   },
   "outputs": [
    {
     "name": "stdout",
     "output_type": "stream",
     "text": [
      "x = 3\n",
      "x squared = 9\n",
      "x cubed = 27\n"
     ]
    }
   ],
   "source": [
    "# note that the exponentiation operator in Python is ** not ^\n",
    "x = 3\n",
    "print('x =', x)\n",
    "print('x squared =', x**2)\n",
    "print('x cubed =', x**3)"
   ]
  },
  {
   "cell_type": "markdown",
   "metadata": {},
   "source": [
    "## Lists and other \"iterables\"\n",
    "\n",
    "When using lists or other array-like data structures, we index with square brackets \"[]\" (note: this is unlike MATLAB, where indexing uses parentheses) and index from 0."
   ]
  },
  {
   "cell_type": "code",
   "execution_count": 5,
   "metadata": {
    "collapsed": false
   },
   "outputs": [
    {
     "name": "stdout",
     "output_type": "stream",
     "text": [
      "1\n",
      "2\n"
     ]
    }
   ],
   "source": [
    "print(my_new_list[0])\n",
    "print(my_new_list[1])"
   ]
  },
  {
   "cell_type": "code",
   "execution_count": 6,
   "metadata": {
    "collapsed": false
   },
   "outputs": [
    {
     "ename": "IndexError",
     "evalue": "list index out of range",
     "output_type": "error",
     "traceback": [
      "\u001b[0;31m---------------------------------------------------------------------------\u001b[0m",
      "\u001b[0;31mIndexError\u001b[0m                                Traceback (most recent call last)",
      "\u001b[0;32m<ipython-input-6-056b5d0e7be7>\u001b[0m in \u001b[0;36m<module>\u001b[0;34m()\u001b[0m\n\u001b[1;32m      1\u001b[0m \u001b[0;31m# if we use an index larger than the list length, we'll get an error\u001b[0m\u001b[0;34m\u001b[0m\u001b[0;34m\u001b[0m\u001b[0m\n\u001b[0;32m----> 2\u001b[0;31m \u001b[0mprint\u001b[0m\u001b[0;34m(\u001b[0m\u001b[0mmy_new_list\u001b[0m\u001b[0;34m[\u001b[0m\u001b[0;36m100\u001b[0m\u001b[0;34m]\u001b[0m\u001b[0;34m)\u001b[0m\u001b[0;34m\u001b[0m\u001b[0m\n\u001b[0m",
      "\u001b[0;31mIndexError\u001b[0m: list index out of range"
     ]
    }
   ],
   "source": [
    "# if we use an index larger than the list length, we'll get an error\n",
    "print(my_new_list[100])"
   ]
  },
  {
   "cell_type": "markdown",
   "metadata": {},
   "source": [
    "# Conditionals"
   ]
  },
  {
   "cell_type": "code",
   "execution_count": 7,
   "metadata": {
    "collapsed": false
   },
   "outputs": [
    {
     "name": "stdout",
     "output_type": "stream",
     "text": [
      "my_int is big\n",
      "my_float is small\n",
      "my_str says hello\n"
     ]
    }
   ],
   "source": [
    "# we can make conditional statements using if, else, and elif\n",
    "# try to predict the output of this cell and then run it\n",
    "if my_int > 3:\n",
    "    print('my_int is big')\n",
    "else:\n",
    "    print('my_int is small')\n",
    "\n",
    "if my_float > 5:\n",
    "    print('my_float is big')\n",
    "else:\n",
    "    print('my_float is small')\n",
    "    \n",
    "if my_str == 'hello':\n",
    "    print('my_str says hello')\n",
    "elif my_str == 'goodbye':\n",
    "    print('my_str says goodbye')\n",
    "elif my_str == 'salutations':\n",
    "    print('my_str says salutations')\n",
    "else:\n",
    "    print('my_str says something else')\n",
    "    \n",
    "# after running this cell change some of the preceding variables to trigger different outputs"
   ]
  },
  {
   "cell_type": "markdown",
   "metadata": {},
   "source": [
    "# Indentation\n",
    "\n",
    "As suggested above, in Python indentation is a part of the syntax. This was implemented to force people to write readable code. It is customary to use four spaces to indent each code block, but some variations are acceptable. In Jupyter if you hit TAB, it is replaced by 4 spaces to be helpful. If you ever get an \"indentation error\", check to make sure all your indentations are correct."
   ]
  },
  {
   "cell_type": "markdown",
   "metadata": {},
   "source": [
    "# Loops"
   ]
  },
  {
   "cell_type": "code",
   "execution_count": 8,
   "metadata": {
    "collapsed": false
   },
   "outputs": [
    {
     "name": "stdout",
     "output_type": "stream",
     "text": [
      "i =  0\n",
      "i =  1\n",
      "i =  2\n",
      "i =  3\n",
      "i =  4\n",
      "i =  5\n",
      "i =  6\n",
      "i =  7\n",
      "i =  8\n",
      "i =  9\n"
     ]
    }
   ],
   "source": [
    "# we can loop over integers using the following syntax\n",
    "for i in range(0, 10):\n",
    "    print('i = ', i)"
   ]
  },
  {
   "cell_type": "markdown",
   "metadata": {},
   "source": [
    "Note that in Python's `range` function, the lower bound is inclusive and the upper bound is exclusive."
   ]
  },
  {
   "cell_type": "code",
   "execution_count": 9,
   "metadata": {
    "collapsed": false
   },
   "outputs": [
    {
     "name": "stdout",
     "output_type": "stream",
     "text": [
      "a\n",
      "b\n",
      "1\n",
      "2\n",
      "3\n",
      "['z', 0]\n"
     ]
    }
   ],
   "source": [
    "# we can also loop over lists of arbitrary variables:\n",
    "for i in ['a', 'b', 1, 2, 3, ['z', 0]]:\n",
    "    print(i)"
   ]
  },
  {
   "cell_type": "code",
   "execution_count": 10,
   "metadata": {
    "collapsed": false
   },
   "outputs": [
    {
     "name": "stdout",
     "output_type": "stream",
     "text": [
      "i = 0\n",
      "i is still small, incrementing i\n",
      "i = 1\n",
      "i is still small, incrementing i\n",
      "i = 2\n",
      "i is still small, incrementing i\n",
      "i = 3\n",
      "i is still small, incrementing i\n",
      "i = 4\n",
      "i is still small, incrementing i\n",
      "i = 5\n",
      "i is still small, incrementing i\n",
      "i = 6\n",
      "i is still small, incrementing i\n",
      "i = 7\n",
      "i is still small, incrementing i\n",
      "i = 8\n",
      "i is still small, incrementing i\n",
      "i = 9\n",
      "i is still small, incrementing i\n",
      "i = 10\n"
     ]
    }
   ],
   "source": [
    "# the 'while' loop allows us to loop until a specific condition is reached\n",
    "i = 0\n",
    "while i < 10:\n",
    "    print('i =', i)\n",
    "    print('i is still small, incrementing i')\n",
    "    i = i + 1\n",
    "    \n",
    "print('i =', i)"
   ]
  },
  {
   "cell_type": "markdown",
   "metadata": {},
   "source": [
    "# Exercise\n",
    "\n",
    "Write a cell that prints out the first 20 even terms in the Fibonacci sequence, where:\n",
    "\n",
    "$a_0 = a_1 = 1$\n",
    "\n",
    "$a_{n+1} = a_n + a_{n-1}$\n",
    "\n",
    "(Oh, btw, you can put TeX equations in Jupyter cells too by surrounding them with $ symbols. What fun!)"
   ]
  },
  {
   "cell_type": "code",
   "execution_count": 11,
   "metadata": {
    "collapsed": true
   },
   "outputs": [],
   "source": [
    "# solution"
   ]
  },
  {
   "cell_type": "markdown",
   "metadata": {},
   "source": [
    "# Importing modules"
   ]
  },
  {
   "cell_type": "markdown",
   "metadata": {},
   "source": [
    "Modules containing other Python can be imported into Jupyter notebooks using the `import` keyword."
   ]
  },
  {
   "cell_type": "code",
   "execution_count": 12,
   "metadata": {
    "collapsed": true
   },
   "outputs": [],
   "source": [
    "# import numerical python library (numpy) and rename it to \"np\"\n",
    "import numpy as np"
   ]
  },
  {
   "cell_type": "code",
   "execution_count": 13,
   "metadata": {
    "collapsed": false
   },
   "outputs": [
    {
     "name": "stdout",
     "output_type": "stream",
     "text": [
      "My list is [0, 1, 2, 3, 10.3]\n",
      "The mean of my list is 3.26\n"
     ]
    }
   ],
   "source": [
    "# calculate the mean of a list of numbers\n",
    "my_list = [0, 1, 2, 3, 10.3]\n",
    "print('My list is', my_list)\n",
    "print('The mean of my list is', np.mean(my_list))"
   ]
  },
  {
   "cell_type": "markdown",
   "metadata": {},
   "source": [
    "Note that functions within modules are referenced using the \".\" notation, e.g. `np.mean(my_list)`.\n",
    "\n",
    "Modules are also often hierarchically structured. For example, numpy contains a submodule called `random`, which can be used to generate random numbers."
   ]
  },
  {
   "cell_type": "code",
   "execution_count": 14,
   "metadata": {
    "collapsed": false
   },
   "outputs": [
    {
     "name": "stdout",
     "output_type": "stream",
     "text": [
      "A random number between 0 and 1 is 0.24412621698698134\n",
      "A random number from a Poisson distribution with mean 5 is 4\n"
     ]
    }
   ],
   "source": [
    "# generate a few random numbers (run again for a different random number)\n",
    "print('A random number between 0 and 1 is', np.random.rand())\n",
    "print('A random number from a Poisson distribution with mean 5 is', np.random.poisson(5))"
   ]
  },
  {
   "cell_type": "markdown",
   "metadata": {},
   "source": [
    "We can import portions of submodules only using `from`, for example:"
   ]
  },
  {
   "cell_type": "code",
   "execution_count": 19,
   "metadata": {
    "collapsed": false
   },
   "outputs": [
    {
     "name": "stdout",
     "output_type": "stream",
     "text": [
      "T = 1.78176662806\n",
      "P = 0.149376440356\n"
     ]
    }
   ],
   "source": [
    "from scipy import stats\n",
    "\n",
    "# calculate the t-statistic and p-value of our list\n",
    "t_test_result = stats.ttest_1samp(my_list, 0)\n",
    "print('T =', t_test_result[0])\n",
    "print('P =', t_test_result[1])"
   ]
  },
  {
   "cell_type": "code",
   "execution_count": 20,
   "metadata": {
    "collapsed": false
   },
   "outputs": [
    {
     "name": "stdout",
     "output_type": "stream",
     "text": [
      "T = 1.78176662806\n",
      "P = 0.149376440356\n"
     ]
    }
   ],
   "source": [
    "# an equivalent way to import submodules\n",
    "import scipy.stats as stats\n",
    "\n",
    "# calculate the t-statistic and p-value of our list\n",
    "t_test_result = stats.ttest_1samp(my_list, 0)\n",
    "print('T =', t_test_result[0])\n",
    "print('P =', t_test_result[1])"
   ]
  },
  {
   "cell_type": "markdown",
   "metadata": {},
   "source": [
    "# Functions\n",
    "\n",
    "Python also lets us define functions, so that we can reuse code we've already written. Functions are defined using the `def` keyword. The arguments/parameters the function takes as inputs are specified in the parentheses in the function definition.\n",
    "\n",
    "Here is a function for computing a commonly used sigmoid function in neuroscience:\n",
    "\n",
    "$f(x) = \\cfrac{1}{1 + \\exp(\\beta(x - x_0))}$"
   ]
  },
  {
   "cell_type": "code",
   "execution_count": 23,
   "metadata": {
    "collapsed": false
   },
   "outputs": [
    {
     "name": "stdout",
     "output_type": "stream",
     "text": [
      "0.5\n",
      "0.73105857863\n",
      "0.880797077978\n"
     ]
    }
   ],
   "source": [
    "import numpy as np\n",
    "\n",
    "# example function computing sigmoid function with a specific slope and offset\n",
    "def sgmd(x, x_0, beta):\n",
    "    \"\"\"\n",
    "    This is a docstring (basically a long comment) describing what this function does.\n",
    "    \n",
    "    Compute the following sigmoid (logistic function) with offset x_0 and slope beta.\n",
    "    \n",
    "    Note: everything inside a function definition (i.e. all the stuff required to compute\n",
    "    the function) is indented by 4 spaces.\n",
    "    \"\"\"\n",
    "    \n",
    "    # inside the exponential\n",
    "    in_exp = beta * (x - x_0)\n",
    "    \n",
    "    # functions end with the return statement, specifying the variable to return\n",
    "    return 1 / (1 + np.exp(in_exp))\n",
    "\n",
    "print(sgmd(0, 0, 1))\n",
    "print(sgmd(0, 1, 1))\n",
    "print(sgmd(0, 1, 2))"
   ]
  },
  {
   "cell_type": "code",
   "execution_count": 24,
   "metadata": {
    "collapsed": false
   },
   "outputs": [
    {
     "name": "stdout",
     "output_type": "stream",
     "text": [
      "0.73105857863\n",
      "0.73105857863\n"
     ]
    }
   ],
   "source": [
    "# we can also \"name\" our arguments when calling functions, making it easier to not mess up the order\n",
    "print(sgmd(x=0, x_0=1, beta=1))\n",
    "# this next line does the same thing, and the argument order doesn't matter since they're named\n",
    "print(sgmd(x=0, beta=1, x_0=1))"
   ]
  },
  {
   "cell_type": "markdown",
   "metadata": {},
   "source": [
    "Note: functions defined in Jupyter notebooks must be defined (and the cell run) before running cells that call them."
   ]
  },
  {
   "cell_type": "markdown",
   "metadata": {},
   "source": [
    "We can also define functions in our own modules, such as `neuro.py`, a custom module in the tutorial directory."
   ]
  },
  {
   "cell_type": "code",
   "execution_count": 3,
   "metadata": {
    "collapsed": false
   },
   "outputs": [
    {
     "name": "stdout",
     "output_type": "stream",
     "text": [
      "0.0606309574565\n"
     ]
    }
   ],
   "source": [
    "from neuro import calc_v_rev\n",
    "\n",
    "# calculate the sodium reversal potential for 15 mM intracellular\n",
    "# and 145 mM extracellular concentrations at 37° C\n",
    "v_rev_na = calc_v_rev(tmpr=37, z=1, c_in=15, c_ex=145)\n",
    "\n",
    "print(v_rev_na)"
   ]
  },
  {
   "cell_type": "markdown",
   "metadata": {},
   "source": [
    "# Some useful built-in functions and keywords"
   ]
  },
  {
   "cell_type": "markdown",
   "metadata": {},
   "source": [
    "### Lists"
   ]
  },
  {
   "cell_type": "code",
   "execution_count": 17,
   "metadata": {
    "collapsed": false
   },
   "outputs": [
    {
     "name": "stdout",
     "output_type": "stream",
     "text": [
      "['a', 'b', 'c', 'd']\n",
      "['a', 'b', 'c', 'd', 'e', 'f', 'g']\n",
      "7\n",
      "b is in my_list\n",
      "z is not in my_list\n"
     ]
    }
   ],
   "source": [
    "my_list = ['a', 'b', 'c']\n",
    "\n",
    "# append to list\n",
    "my_list.append('d')\n",
    "print(my_list)\n",
    "\n",
    "# extend list\n",
    "my_list.extend(['e', 'f', 'g'])\n",
    "print(my_list)\n",
    "\n",
    "# get list length\n",
    "my_list_len = len(my_list)\n",
    "print(my_list_len)\n",
    "\n",
    "# check if element is in list\n",
    "if 'b' in my_list:\n",
    "    print('b is in my_list')\n",
    "else:\n",
    "    print('b is not in my_list')\n",
    "    \n",
    "if 'z' in my_list:\n",
    "    print('z is in my_list')\n",
    "else:\n",
    "    print('z is not in my_list')"
   ]
  },
  {
   "cell_type": "markdown",
   "metadata": {},
   "source": [
    "### Loops"
   ]
  },
  {
   "cell_type": "code",
   "execution_count": 13,
   "metadata": {
    "collapsed": false
   },
   "outputs": [
    {
     "name": "stdout",
     "output_type": "stream",
     "text": [
      "Element 0 is a\n",
      "Element 1 is b\n",
      "Element 2 is c\n",
      "Element 3 is d\n"
     ]
    }
   ],
   "source": [
    "list_0 = ['a', 'b', 'c', 'd']\n",
    "\n",
    "# loop over list elements and automatically create counter called \"ctr\"\n",
    "for ctr, el in enumerate(list_0):\n",
    "    print('Element', ctr, 'is', el)"
   ]
  },
  {
   "cell_type": "code",
   "execution_count": 14,
   "metadata": {
    "collapsed": false
   },
   "outputs": [
    {
     "name": "stdout",
     "output_type": "stream",
     "text": [
      "el_0 is a and el_1 is w\n",
      "el_0 is b and el_1 is x\n",
      "el_0 is c and el_1 is y\n",
      "el_0 is d and el_1 is z\n"
     ]
    }
   ],
   "source": [
    "list_0 = ['a', 'b', 'c', 'd']\n",
    "list_1 = ['w', 'x', 'y', 'z']\n",
    "\n",
    "# loop over two lists simultaneously\n",
    "for el_0, el_1 in zip(list_0, list_1):\n",
    "    print('el_0 is', el_0, 'and el_1 is', el_1)"
   ]
  },
  {
   "cell_type": "code",
   "execution_count": 16,
   "metadata": {
    "collapsed": false
   },
   "outputs": [
    {
     "name": "stdout",
     "output_type": "stream",
     "text": [
      "el_0 is b\n",
      "el_0 is c\n",
      "el_0 is d\n",
      "el_0 is e\n",
      "Vowel detected, breaking out of loop...\n",
      "Loop over.\n"
     ]
    }
   ],
   "source": [
    "list_0 = ['b', 'c', 'd', 'e', 'f', 'g']\n",
    "vowels = ['a', 'e', 'i', 'o', 'u']\n",
    "\n",
    "# break out of loop on condition\n",
    "for el_0 in list_0:\n",
    "    print('el_0 is', el_0)\n",
    "    if el_0 in vowels:\n",
    "        print('Vowel detected, breaking out of loop...')\n",
    "        break\n",
    "\n",
    "print('Loop over.')"
   ]
  },
  {
   "cell_type": "markdown",
   "metadata": {},
   "source": [
    "# Exercise\n",
    "\n",
    "Write a function that takes a list of 10 numbers as its argument and returns the average of the top 3 values. Make sure to give it a good name, and test it with the following inputs:\n",
    "\n",
    "[0, 1, 2, 3, 4, 5, 6, 7, 8, 9]\n",
    "\n",
    "[9, 8, 7, 6, 5, 4, 3, 2, 1, 0]\n",
    "\n",
    "[1, -1, 2, -2, 3, -3, 4, -4, 5, -5]"
   ]
  },
  {
   "cell_type": "code",
   "execution_count": 9,
   "metadata": {
    "collapsed": true
   },
   "outputs": [],
   "source": [
    "# solution\n",
    "# ..."
   ]
  },
  {
   "cell_type": "markdown",
   "metadata": {},
   "source": [
    "# Installing packages\n",
    "\n",
    "You can install packages not included with your installation using `!conda install -y package_name`. For example we can install `django` (a Python web framework package) using the following. Note that it can take a minute or two since its has to be downloaded and installed."
   ]
  },
  {
   "cell_type": "code",
   "execution_count": 8,
   "metadata": {
    "collapsed": false
   },
   "outputs": [
    {
     "name": "stdout",
     "output_type": "stream",
     "text": [
      "Fetching package metadata ...........\n",
      "Solving package specifications: .\n",
      "\n",
      "Package plan for installation in environment /Users/melete/anaconda:\n",
      "\n",
      "The following packages will be UPDATED:\n",
      "\n",
      "    conda:     4.3.30-py36h173c244_0 --> 4.5.11-py36_0       \n",
      "    conda-env: 2.6.0-0               --> 2.6.0-1             \n",
      "    django:    1.11.3-py36_0         --> 2.1.2-py36_0        \n",
      "    pycosat:   0.6.1-py36_1          --> 0.6.3-py36h1de35cc_0\n",
      "\n",
      "conda-env-2.6. 100% |################################| Time: 0:00:00   1.69 MB/s\n",
      "pycosat-0.6.3- 100% |################################| Time: 0:00:00   8.42 MB/s\n",
      "django-2.1.2-p 100% |################################| Time: 0:00:00  10.54 MB/s\n",
      "conda-4.5.11-p 100% |################################| Time: 0:00:00  23.62 MB/s\n"
     ]
    }
   ],
   "source": [
    "!conda install -y django"
   ]
  },
  {
   "cell_type": "code",
   "execution_count": 12,
   "metadata": {
    "collapsed": false
   },
   "outputs": [
    {
     "name": "stdout",
     "output_type": "stream",
     "text": [
      "1.11.3\n"
     ]
    }
   ],
   "source": [
    "import django\n",
    "print(django.__version__)"
   ]
  },
  {
   "cell_type": "markdown",
   "metadata": {},
   "source": [
    "Note that Anaconda automatically includes a huge list of useful packages for computational science, so you probably won't need to install anything new."
   ]
  }
 ],
 "metadata": {
  "kernelspec": {
   "display_name": "Python 3",
   "language": "python",
   "name": "python3"
  },
  "language_info": {
   "codemirror_mode": {
    "name": "ipython",
    "version": 3
   },
   "file_extension": ".py",
   "mimetype": "text/x-python",
   "name": "python",
   "nbconvert_exporter": "python",
   "pygments_lexer": "ipython3",
   "version": "3.6.0"
  }
 },
 "nbformat": 4,
 "nbformat_minor": 2
}
