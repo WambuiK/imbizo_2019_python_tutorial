{
 "cells": [
  {
   "cell_type": "markdown",
   "metadata": {},
   "source": [
    "In this notebook we'll go over the basics of using Python within the Jupyter notebook.\n",
    "\n",
    "First, Jupyter Notebooks are comprised of \"cells\". These are typically either text or code cells, making it easy to interleave exposition with code and figures. This cell and the one that follows, for instance, are text cells. The next one is a code cell. You can change a cell's type in the Cell menu.\n",
    "\n",
    "Code cells can be edited by clicking inside them, and text cells by double-clicking. Code cells are run (or text cells rendered) using either CTRL + ENTER (focus remains on this cell) or SHIFT + ENTER (focus moves to next cell; useful when running a sequence of cells). \n",
    "\n",
    "Try adding some text to this cell.\n",
    "\n",
    "Then run each of the code cells below, reading the instructions carefully to make sure you understand exactly what's going on. Feel free to edit and re-run the cells too. If you ever want to start fresh again, you can just re-download the tutorial.\n",
    "\n",
    "Note: If you want to clear the notebook's workspace (all the currently stored variables) use the menu option Kernel-->Restart (or double-tap \"0\").\n",
    "\n",
    "Okay, let's get going!"
   ]
  },
  {
   "cell_type": "markdown",
   "metadata": {},
   "source": [
    "# Variables\n",
    "Like most programming languages, Python uses variables to store data."
   ]
  },
  {
   "cell_type": "code",
   "execution_count": 1,
   "metadata": {},
   "outputs": [
    {
     "name": "stdout",
     "output_type": "stream",
     "text": [
      "my_int = 5\n",
      "my_float = 4.3\n",
      "my_str = hello\n",
      "my_list = [1, 2, 'hi', 4.1]\n",
      "my_dict = {'a': 1, 'b': 2, 'hello': 5}\n"
     ]
    }
   ],
   "source": [
    "my_int = 5\n",
    "my_float = 4.3\n",
    "my_str = 'hello'\n",
    "my_list = [1, 2, 'hi', 4.1]  # ordered array\n",
    "my_dict = {'a': 1, 'b': 2, my_str: my_int}  # array indexed by strings instead of integers\n",
    "\n",
    "# now let's print out the variables (this is a comment, by the way, because it starts with \"#\")\n",
    "print('my_int =', my_int)\n",
    "print('my_float =', my_float)\n",
    "print('my_str =', my_str)\n",
    "print('my_list =', my_list)  # note: lists are ordered and can contain any variable types within (even other lists!)\n",
    "print('my_dict =', my_dict)  # note: dicts are not ordered; like lists, they can contain any variable types\n",
    "\n",
    "# now run the cell with CTRL + ENTER or SHIFT + ENTER"
   ]
  },
  {
   "cell_type": "code",
   "execution_count": 2,
   "metadata": {},
   "outputs": [
    {
     "name": "stdout",
     "output_type": "stream",
     "text": [
      "my_new_int = 12\n",
      "my_new_float = 0.0\n",
      "my_new_str = hello friend\n",
      "my_new_list = [1, 2, 'hi', 4.1, 3, 6, 1, 'neuron']\n"
     ]
    }
   ],
   "source": [
    "# we can manipulate variables too\n",
    "my_new_int = my_int + 7\n",
    "my_new_float = my_float - 4.3\n",
    "my_new_str = my_str + ' friend'\n",
    "my_new_list = my_list + [3, 6, 1, 'neuron']\n",
    "\n",
    "print('my_new_int =', my_new_int)\n",
    "print('my_new_float =', my_new_float)\n",
    "print('my_new_str =', my_new_str)\n",
    "print('my_new_list =', my_new_list)"
   ]
  },
  {
   "cell_type": "code",
   "execution_count": 3,
   "metadata": {},
   "outputs": [
    {
     "name": "stdout",
     "output_type": "stream",
     "text": [
      "{'a': 1, 'b': 2, 'hello': 5, 'c': 'my_new_dict_value'}\n",
      "{'a': 1, 'b': 2, 'hello': 5, 'c': 'my_new_new_dict_value'}\n"
     ]
    }
   ],
   "source": [
    "# we add to dicts or modify values at existing keys using the following syntax\n",
    "my_dict['c'] = 'my_new_dict_value'\n",
    "print(my_dict)\n",
    "\n",
    "my_dict['c'] = 'my_new_new_dict_value'\n",
    "print(my_dict)"
   ]
  },
  {
   "cell_type": "code",
   "execution_count": 5,
   "metadata": {},
   "outputs": [
    {
     "data": {
      "text/plain": [
       "[1, 2, 'hi', 4.1, 3, 6, 1, 'neuron']"
      ]
     },
     "execution_count": 5,
     "metadata": {},
     "output_type": "execute_result"
    }
   ],
   "source": [
    "# you can also print out a variable by just writing it at the bottom of a cell (without the print statemnent):\n",
    "my_new_list"
   ]
  },
  {
   "cell_type": "code",
   "execution_count": 6,
   "metadata": {},
   "outputs": [
    {
     "name": "stdout",
     "output_type": "stream",
     "text": [
      "x = 3\n",
      "x squared = 9\n",
      "x cubed = 27\n"
     ]
    }
   ],
   "source": [
    "# note that the exponentiation operator in Python is ** not ^\n",
    "x = 3\n",
    "print('x =', x)\n",
    "print('x squared =', x**2)\n",
    "print('x cubed =', x**3)"
   ]
  },
  {
   "cell_type": "code",
   "execution_count": 7,
   "metadata": {},
   "outputs": [
    {
     "name": "stdout",
     "output_type": "stream",
     "text": [
      "1\n",
      "0\n"
     ]
    }
   ],
   "source": [
    "# the % (mod) operator is useful too\n",
    "x = 10 \n",
    "print(x % 3)\n",
    "print(x % 2)"
   ]
  },
  {
   "cell_type": "markdown",
   "metadata": {},
   "source": [
    "## Lists and other \"iterables\"\n",
    "\n",
    "When using lists or other array-like data structures, we index with square brackets \"[]\" (note: this is unlike MATLAB, where indexing uses parentheses) and index from 0. This distinguishes indexing from function calls, which are done with \"()\".\n",
    "\n",
    "Note: in Python all lists and arrays are indexed from 0 (unlike MATLAB, which indexes from 1)."
   ]
  },
  {
   "cell_type": "code",
   "execution_count": 8,
   "metadata": {},
   "outputs": [
    {
     "name": "stdout",
     "output_type": "stream",
     "text": [
      "1\n",
      "2\n"
     ]
    }
   ],
   "source": [
    "print(my_new_list[0])\n",
    "print(my_new_list[1])"
   ]
  },
  {
   "cell_type": "code",
   "execution_count": 9,
   "metadata": {},
   "outputs": [
    {
     "ename": "IndexError",
     "evalue": "list index out of range",
     "output_type": "error",
     "traceback": [
      "\u001b[0;31m---------------------------------------------------------------------------\u001b[0m",
      "\u001b[0;31mIndexError\u001b[0m                                Traceback (most recent call last)",
      "\u001b[0;32m<ipython-input-9-904f22451e0f>\u001b[0m in \u001b[0;36m<module>\u001b[0;34m()\u001b[0m\n\u001b[1;32m      1\u001b[0m \u001b[0;31m# if we use an index larger than the list length, we'll get an error\u001b[0m\u001b[0;34m\u001b[0m\u001b[0;34m\u001b[0m\u001b[0;34m\u001b[0m\u001b[0m\n\u001b[0;32m----> 2\u001b[0;31m \u001b[0mprint\u001b[0m\u001b[0;34m(\u001b[0m\u001b[0mmy_new_list\u001b[0m\u001b[0;34m[\u001b[0m\u001b[0;36m100\u001b[0m\u001b[0;34m]\u001b[0m\u001b[0;34m)\u001b[0m\u001b[0;34m\u001b[0m\u001b[0;34m\u001b[0m\u001b[0m\n\u001b[0m",
      "\u001b[0;31mIndexError\u001b[0m: list index out of range"
     ]
    }
   ],
   "source": [
    "# if we use an index larger than the list length, we'll get an error\n",
    "print(my_new_list[100])"
   ]
  },
  {
   "cell_type": "markdown",
   "metadata": {},
   "source": [
    "# Conditionals"
   ]
  },
  {
   "cell_type": "code",
   "execution_count": 10,
   "metadata": {},
   "outputs": [
    {
     "name": "stdout",
     "output_type": "stream",
     "text": [
      "my_int is big\n",
      "my_float is small\n",
      "my_str says hello\n",
      "my_str does not say goodbye\n"
     ]
    }
   ],
   "source": [
    "# we can make conditional statements using if, else, and elif\n",
    "# try to predict the output of this cell and then run it\n",
    "if my_int > 3:\n",
    "    print('my_int is big')\n",
    "else:\n",
    "    print('my_int is small')\n",
    "\n",
    "if my_float > 5:\n",
    "    print('my_float is big')\n",
    "else:\n",
    "    print('my_float is small')\n",
    "    \n",
    "if my_str == 'hello':\n",
    "    print('my_str says hello')\n",
    "elif my_str == 'goodbye':\n",
    "    print('my_str says goodbye')\n",
    "elif my_str == 'salutations':\n",
    "    print('my_str says salutations')\n",
    "else:\n",
    "    print('my_str says something else')\n",
    "    \n",
    "if my_str != 'goodbye':\n",
    "    print('my_str does not say goodbye')\n",
    "    \n",
    "# after running this cell change some of the preceding variables to trigger different outputs"
   ]
  },
  {
   "cell_type": "markdown",
   "metadata": {},
   "source": [
    "# and/or/not operators"
   ]
  },
  {
   "cell_type": "code",
   "execution_count": 11,
   "metadata": {},
   "outputs": [
    {
     "name": "stdout",
     "output_type": "stream",
     "text": [
      "Both greater than 2\n",
      "At least one greater than 4\n",
      "Neither greater than 10\n"
     ]
    }
   ],
   "source": [
    "# we can test whether individual or multiple statements are true or false using and, or, and not\n",
    "x = 3\n",
    "y = 5\n",
    "\n",
    "if x > 2 and y > 2:\n",
    "    print('Both greater than 2')\n",
    "\n",
    "if x > 4 and y > 4:\n",
    "    print('Both greater than 4')\n",
    "\n",
    "if x > 4 or y > 4:\n",
    "    print('At least one greater than 4')\n",
    "    \n",
    "if not (x > 4 or y > 4):\n",
    "    print('Neither greater than 4')\n",
    "    \n",
    "if not (x > 10 or y > 10):\n",
    "    print('Neither greater than 10')"
   ]
  },
  {
   "cell_type": "markdown",
   "metadata": {},
   "source": [
    "# Indentation\n",
    "\n",
    "As suggested above, in Python indentation is a part of the syntax. This was implemented to force people to write readable code. It is customary to use four spaces to indent each code block (i.e. code within a conditional statement, loop, or function), but some variations are acceptable. In Jupyter if you hit TAB, it is replaced by 4 spaces to be helpful. If you ever get an \"indentation error\", check to make sure all your indentations are correct."
   ]
  },
  {
   "cell_type": "markdown",
   "metadata": {},
   "source": [
    "# Loops"
   ]
  },
  {
   "cell_type": "code",
   "execution_count": 12,
   "metadata": {},
   "outputs": [
    {
     "name": "stdout",
     "output_type": "stream",
     "text": [
      "i =  0\n",
      "i =  1\n",
      "i =  2\n",
      "i =  3\n",
      "i =  4\n",
      "i =  5\n",
      "i =  6\n",
      "i =  7\n",
      "i =  8\n",
      "i =  9\n"
     ]
    }
   ],
   "source": [
    "# we can loop over integers using the following syntax\n",
    "for i in range(0, 10):\n",
    "    print('i = ', i)"
   ]
  },
  {
   "cell_type": "markdown",
   "metadata": {},
   "source": [
    "Note that in Python's `range` function, the lower bound is inclusive and the upper bound is exclusive."
   ]
  },
  {
   "cell_type": "code",
   "execution_count": 13,
   "metadata": {},
   "outputs": [
    {
     "name": "stdout",
     "output_type": "stream",
     "text": [
      "a\n",
      "b\n",
      "1\n",
      "2\n",
      "3\n",
      "['z', 0]\n"
     ]
    }
   ],
   "source": [
    "# we can also loop over lists of arbitrary variables:\n",
    "for i in ['a', 'b', 1, 2, 3, ['z', 0]]:\n",
    "    print(i)"
   ]
  },
  {
   "cell_type": "code",
   "execution_count": 14,
   "metadata": {},
   "outputs": [
    {
     "name": "stdout",
     "output_type": "stream",
     "text": [
      "i = 0\n",
      "i is still small, incrementing i\n",
      "i = 1\n",
      "i is still small, incrementing i\n",
      "i = 2\n",
      "i is still small, incrementing i\n",
      "i = 3\n",
      "i is still small, incrementing i\n",
      "i = 4\n",
      "i is still small, incrementing i\n",
      "i = 5\n",
      "i is still small, incrementing i\n",
      "i = 6\n",
      "i is still small, incrementing i\n",
      "i = 7\n",
      "i is still small, incrementing i\n",
      "i = 8\n",
      "i is still small, incrementing i\n",
      "i = 9\n",
      "i is still small, incrementing i\n",
      "i = 10\n"
     ]
    }
   ],
   "source": [
    "# the 'while' loop allows us to loop until a specific condition is reached\n",
    "i = 0\n",
    "while i < 10:\n",
    "    print('i =', i)\n",
    "    print('i is still small, incrementing i')\n",
    "    i = i + 1\n",
    "    \n",
    "print('i =', i)"
   ]
  },
  {
   "cell_type": "markdown",
   "metadata": {},
   "source": [
    "# Importing modules"
   ]
  },
  {
   "cell_type": "markdown",
   "metadata": {},
   "source": [
    "Modules containing other Python can be imported into Jupyter notebooks using the `import` keyword.\n",
    "\n",
    "Note that modules must be installed on your computer before you can import them. Anaconda comes with most of the modules you'll need (e.g. numpy), but see the bottom of this notebook for how to install new ones."
   ]
  },
  {
   "cell_type": "code",
   "execution_count": 15,
   "metadata": {},
   "outputs": [],
   "source": [
    "# import numerical python library (numpy) and rename it to \"np\"\n",
    "import numpy as np"
   ]
  },
  {
   "cell_type": "code",
   "execution_count": 16,
   "metadata": {},
   "outputs": [
    {
     "name": "stdout",
     "output_type": "stream",
     "text": [
      "My list is [0, 1, 2, 3, 10.3]\n",
      "The mean of my list is 3.2600000000000002\n"
     ]
    }
   ],
   "source": [
    "# use a numpy function calculate the mean of a list of numbers\n",
    "my_list = [0, 1, 2, 3, 10.3]\n",
    "print('My list is', my_list)\n",
    "print('The mean of my list is', np.mean(my_list))"
   ]
  },
  {
   "cell_type": "markdown",
   "metadata": {},
   "source": [
    "Note that functions within modules are referenced using the \".\" notation, e.g. `np.mean(my_list)`.\n",
    "\n",
    "Modules are also often hierarchically structured. For example, numpy contains a submodule called `random`, which can be used to generate random numbers."
   ]
  },
  {
   "cell_type": "code",
   "execution_count": 18,
   "metadata": {},
   "outputs": [
    {
     "name": "stdout",
     "output_type": "stream",
     "text": [
      "A random number between 0 and 1 is 0.2648011696176771\n",
      "A random number from a Poisson distribution with mean 5 is 7\n"
     ]
    }
   ],
   "source": [
    "# generate a few random numbers (run again for a different random number)\n",
    "print('A random number between 0 and 1 is', np.random.rand())\n",
    "print('A random number from a Poisson distribution with mean 5 is', np.random.poisson(5))"
   ]
  },
  {
   "cell_type": "markdown",
   "metadata": {},
   "source": [
    "We can import portions of submodules only using `from`, for example:"
   ]
  },
  {
   "cell_type": "code",
   "execution_count": 19,
   "metadata": {},
   "outputs": [
    {
     "name": "stdout",
     "output_type": "stream",
     "text": [
      "T = 1.7817666280643314\n",
      "P = 0.14937644035559353\n"
     ]
    }
   ],
   "source": [
    "from scipy import stats\n",
    "\n",
    "# calculate the t-statistic and p-value of our list\n",
    "t_test_result = stats.ttest_1samp(my_list, 0)\n",
    "print('T =', t_test_result[0])\n",
    "print('P =', t_test_result[1])"
   ]
  },
  {
   "cell_type": "code",
   "execution_count": 20,
   "metadata": {},
   "outputs": [
    {
     "name": "stdout",
     "output_type": "stream",
     "text": [
      "T = 1.7817666280643314\n",
      "P = 0.14937644035559353\n"
     ]
    }
   ],
   "source": [
    "# an equivalent way to import submodules\n",
    "import scipy.stats as stats\n",
    "\n",
    "# calculate the t-statistic and p-value of our list\n",
    "t_test_result = stats.ttest_1samp(my_list, 0)\n",
    "print('T =', t_test_result[0])\n",
    "print('P =', t_test_result[1])"
   ]
  },
  {
   "cell_type": "markdown",
   "metadata": {},
   "source": [
    "# Functions\n",
    "\n",
    "Python also lets us define functions, so that we can reuse code we've already written. Functions are defined using the `def` keyword. The arguments/parameters the function takes as inputs are specified in the parentheses in the function definition.\n",
    "\n",
    "Here is a function for computing a commonly used sigmoid function in neuroscience:\n",
    "\n",
    "$f(x) = \\cfrac{1}{1 + \\exp(\\beta(x - x_0))}$"
   ]
  },
  {
   "cell_type": "code",
   "execution_count": 21,
   "metadata": {},
   "outputs": [
    {
     "name": "stdout",
     "output_type": "stream",
     "text": [
      "0.5\n",
      "0.7310585786300049\n",
      "0.8807970779778823\n"
     ]
    }
   ],
   "source": [
    "# example function computing sigmoid function with a specific slope and offset\n",
    "def sgmd(x, x_0, beta):\n",
    "    \"\"\"\n",
    "    This is a docstring (basically a long comment) describing what this function does.\n",
    "    \n",
    "    Compute the following sigmoid (logistic function) with offset x_0 and slope beta.\n",
    "    \n",
    "    Note: everything inside a function definition (i.e. all the stuff required to compute\n",
    "    the function) is indented by 4 spaces.\n",
    "    \"\"\"\n",
    "    \n",
    "    # inside the exponential\n",
    "    in_exp = beta * (x - x_0)\n",
    "    \n",
    "    # functions end with the return statement, specifying the variable to return\n",
    "    return 1 / (1 + np.exp(in_exp))\n",
    "\n",
    "print(sgmd(0, 0, 1))\n",
    "print(sgmd(0, 1, 1))\n",
    "print(sgmd(0, 1, 2))"
   ]
  },
  {
   "cell_type": "code",
   "execution_count": 22,
   "metadata": {},
   "outputs": [
    {
     "name": "stdout",
     "output_type": "stream",
     "text": [
      "0.7310585786300049\n",
      "0.7310585786300049\n"
     ]
    }
   ],
   "source": [
    "# we can also \"name\" our arguments when calling functions, making it easier to not mess up the order\n",
    "print(sgmd(x=0, x_0=1, beta=1))\n",
    "\n",
    "# this next line does the same thing, and the argument order doesn't matter since they're named\n",
    "print(sgmd(x=0, beta=1, x_0=1))"
   ]
  },
  {
   "cell_type": "markdown",
   "metadata": {},
   "source": [
    "Note: functions defined in Jupyter notebooks must be defined (and the cell run) before running cells that call them."
   ]
  },
  {
   "cell_type": "code",
   "execution_count": 23,
   "metadata": {},
   "outputs": [],
   "source": [
    "# we can also write functions that return multiple\n",
    "# outputs, separated by commas\n",
    "def mean_and_std(x):\n",
    "    x_mean = np.mean(x)\n",
    "    x_std = np.std(x)\n",
    "    \n",
    "    return x_mean, x_std"
   ]
  },
  {
   "cell_type": "code",
   "execution_count": 24,
   "metadata": {},
   "outputs": [
    {
     "name": "stdout",
     "output_type": "stream",
     "text": [
      "Mean = 3.0\n",
      "STD = 1.4142135623730951\n"
     ]
    }
   ],
   "source": [
    "x = [1, 2, 3, 4, 5]\n",
    "\n",
    "rslt = mean_and_std(x)\n",
    "print('Mean =', rslt[0])\n",
    "print('STD =', rslt[1])"
   ]
  },
  {
   "cell_type": "code",
   "execution_count": 25,
   "metadata": {},
   "outputs": [
    {
     "name": "stdout",
     "output_type": "stream",
     "text": [
      "Mean(x) = 3.0\n",
      "STD(x) = 1.4142135623730951\n",
      "Mean(y) = 6.6\n",
      "STD(y) = 1.3564659966250536\n"
     ]
    }
   ],
   "source": [
    "# we can also \"unpack\" return values immediately, using the following syntax\n",
    "x_mean, x_std = mean_and_std(x)\n",
    "\n",
    "print('Mean(x) =', x_mean)\n",
    "print('STD(x) =', x_std)\n",
    "\n",
    "y = [5, 5, 7, 8, 8]\n",
    "\n",
    "y_mean, y_std = mean_and_std(y)\n",
    "\n",
    "print('Mean(y) =', y_mean)\n",
    "print('STD(y) =', y_std)"
   ]
  },
  {
   "cell_type": "markdown",
   "metadata": {},
   "source": [
    "# Putting custom functions in custom modules"
   ]
  },
  {
   "cell_type": "markdown",
   "metadata": {},
   "source": [
    "We can also define functions in our own modules, such as `neuro.py`, a custom module in the tutorial directory."
   ]
  },
  {
   "cell_type": "code",
   "execution_count": 26,
   "metadata": {},
   "outputs": [
    {
     "name": "stdout",
     "output_type": "stream",
     "text": [
      "0.060630957456458745 V\n"
     ]
    }
   ],
   "source": [
    "from neuro import calc_v_rev\n",
    "\n",
    "# calculate the sodium reversal potential for 15 mM intracellular\n",
    "# and 145 mM extracellular concentrations at 37° C\n",
    "v_rev_na = calc_v_rev(tmpr=37, z=1, c_in=15, c_ex=145)\n",
    "\n",
    "print(v_rev_na, 'V')"
   ]
  },
  {
   "cell_type": "markdown",
   "metadata": {},
   "source": [
    "Now open up `neuro.py` and take a look at the function."
   ]
  },
  {
   "cell_type": "markdown",
   "metadata": {},
   "source": [
    "# Other commonly used built-in Python stuff"
   ]
  },
  {
   "cell_type": "markdown",
   "metadata": {},
   "source": [
    "## Math/assignment shortcut"
   ]
  },
  {
   "cell_type": "code",
   "execution_count": 1,
   "metadata": {},
   "outputs": [
    {
     "name": "stdout",
     "output_type": "stream",
     "text": [
      "6\n",
      "2.5\n"
     ]
    }
   ],
   "source": [
    "x = 3\n",
    "\n",
    "x += 3  # equivalent to x = x + 3\n",
    "\n",
    "print(x)\n",
    "\n",
    "y = 5\n",
    "\n",
    "y /= 2  # equivalent to y = y/2\n",
    "\n",
    "print(y)\n",
    "\n",
    "# works with multiplication, "
   ]
  },
  {
   "cell_type": "markdown",
   "metadata": {},
   "source": [
    "### Lists"
   ]
  },
  {
   "cell_type": "code",
   "execution_count": 20,
   "metadata": {},
   "outputs": [
    {
     "name": "stdout",
     "output_type": "stream",
     "text": [
      "['a', 'b', 'c', 'd']\n",
      "['a', 'b', 'c', 'd', 'e', 'f', 'g']\n",
      "7\n",
      "b is in my_list\n",
      "z is not in my_list\n"
     ]
    }
   ],
   "source": [
    "my_list = ['a', 'b', 'c']\n",
    "\n",
    "# append to list\n",
    "my_list.append('d')\n",
    "print(my_list)\n",
    "\n",
    "# extend list\n",
    "my_list.extend(['e', 'f', 'g'])\n",
    "print(my_list)\n",
    "\n",
    "# get list length\n",
    "my_list_len = len(my_list)\n",
    "print(my_list_len)\n",
    "\n",
    "# check if element is in list\n",
    "if 'b' in my_list:\n",
    "    print('b is in my_list')\n",
    "else:\n",
    "    print('b is not in my_list')\n",
    "    \n",
    "if 'z' in my_list:\n",
    "    print('z is in my_list')\n",
    "else:\n",
    "    print('z is not in my_list')"
   ]
  },
  {
   "cell_type": "code",
   "execution_count": 28,
   "metadata": {},
   "outputs": [
    {
     "name": "stdout",
     "output_type": "stream",
     "text": [
      "['a', 'b', 'c', 1, 2, 3]\n",
      "[1, 2, 3, 7, 8, 9]\n"
     ]
    }
   ],
   "source": [
    "# concatenating two lists\n",
    "list_a = ['a', 'b', 'c']\n",
    "list_b = [1, 2, 3]\n",
    "\n",
    "print(list_a + list_b)\n",
    "\n",
    "# note: lists do not add like vectors (we'll use numpy arrays for that in the next notebook)\n",
    "list_c = [7, 8, 9]\n",
    "\n",
    "print(list_b + list_c)"
   ]
  },
  {
   "cell_type": "markdown",
   "metadata": {},
   "source": [
    "Indexing from the end of a list"
   ]
  },
  {
   "cell_type": "code",
   "execution_count": 29,
   "metadata": {},
   "outputs": [
    {
     "name": "stdout",
     "output_type": "stream",
     "text": [
      "d\n",
      "c\n",
      "['b', 'c']\n",
      "['b', 'c', 'd']\n"
     ]
    }
   ],
   "source": [
    "my_list = ['a', 'b', 'c', 'd']\n",
    "\n",
    "# negative indices are quite useful\n",
    "print(my_list[-1])\n",
    "print(my_list[-2])\n",
    "print(my_list[-3:-1])\n",
    "print(my_list[-3:None])"
   ]
  },
  {
   "cell_type": "markdown",
   "metadata": {},
   "source": [
    "Sorting lists."
   ]
  },
  {
   "cell_type": "code",
   "execution_count": 31,
   "metadata": {},
   "outputs": [
    {
     "name": "stdout",
     "output_type": "stream",
     "text": [
      "['a', 'b', 'c', 'd']\n"
     ]
    }
   ],
   "source": [
    "my_list = ['b', 'c', 'd', 'a']\n",
    "my_list_sorted = sorted(my_list)\n",
    "print(my_list_sorted)"
   ]
  },
  {
   "cell_type": "markdown",
   "metadata": {},
   "source": [
    "### Dicts"
   ]
  },
  {
   "cell_type": "code",
   "execution_count": 35,
   "metadata": {},
   "outputs": [
    {
     "name": "stdout",
     "output_type": "stream",
     "text": [
      "['a', 'b', 'c']\n"
     ]
    }
   ],
   "source": [
    "# show dict keys\n",
    "my_dict = {'a': 0, 'b': 1, 'c': 10}\n",
    "\n",
    "keys = list(my_dict.keys())\n",
    "print(keys)"
   ]
  },
  {
   "cell_type": "code",
   "execution_count": 36,
   "metadata": {},
   "outputs": [
    {
     "name": "stdout",
     "output_type": "stream",
     "text": [
      "[0, 1, 10]\n"
     ]
    }
   ],
   "source": [
    "# show dict values\n",
    "\n",
    "vals = list(my_dict.values())\n",
    "\n",
    "print(vals)"
   ]
  },
  {
   "cell_type": "markdown",
   "metadata": {},
   "source": [
    "### Loops"
   ]
  },
  {
   "cell_type": "code",
   "execution_count": 37,
   "metadata": {},
   "outputs": [
    {
     "name": "stdout",
     "output_type": "stream",
     "text": [
      "Element 0 is a\n",
      "Element 1 is b\n",
      "Element 2 is c\n",
      "Element 3 is d\n"
     ]
    }
   ],
   "source": [
    "list_0 = ['a', 'b', 'c', 'd']\n",
    "\n",
    "# loop over list elements and automatically create counter called \"ctr\"\n",
    "for ctr, el in enumerate(list_0):\n",
    "    print('Element', ctr, 'is', el)"
   ]
  },
  {
   "cell_type": "code",
   "execution_count": 38,
   "metadata": {},
   "outputs": [
    {
     "name": "stdout",
     "output_type": "stream",
     "text": [
      "el_0 is a and el_1 is w\n",
      "el_0 is b and el_1 is x\n",
      "el_0 is c and el_1 is y\n",
      "el_0 is d and el_1 is z\n"
     ]
    }
   ],
   "source": [
    "list_0 = ['a', 'b', 'c', 'd']\n",
    "list_1 = ['w', 'x', 'y', 'z']\n",
    "\n",
    "# loop over two lists simultaneously\n",
    "for el_0, el_1 in zip(list_0, list_1):\n",
    "    print('el_0 is', el_0, 'and el_1 is', el_1)\n",
    "    \n",
    "# can be used with any number of lists"
   ]
  },
  {
   "cell_type": "code",
   "execution_count": 39,
   "metadata": {},
   "outputs": [
    {
     "name": "stdout",
     "output_type": "stream",
     "text": [
      "el_0 is b\n",
      "el_0 is c\n",
      "el_0 is d\n",
      "el_0 is e\n",
      "Vowel detected, breaking out of loop...\n",
      "Loop over.\n"
     ]
    }
   ],
   "source": [
    "list_0 = ['b', 'c', 'd', 'e', 'f', 'g']\n",
    "vowels = ['a', 'e', 'i', 'o', 'u']\n",
    "\n",
    "# break out of loop on condition\n",
    "for el_0 in list_0:\n",
    "    print('el_0 is', el_0)\n",
    "    if el_0 in vowels:\n",
    "        print('Vowel detected, breaking out of loop...')\n",
    "        break\n",
    "\n",
    "print('Loop over.')"
   ]
  },
  {
   "cell_type": "code",
   "execution_count": 40,
   "metadata": {},
   "outputs": [
    {
     "name": "stdout",
     "output_type": "stream",
     "text": [
      "Key = a ; Value = 0\n",
      "Key = b ; Value = 1\n",
      "Key = c ; Value = 10\n"
     ]
    }
   ],
   "source": [
    "# loop over dict keys and values\n",
    "my_dict = {'a': 0, 'b': 1, 'c': 10}\n",
    "\n",
    "for k, v in my_dict.items():\n",
    "    print('Key =', k, '; Value =', v)"
   ]
  },
  {
   "cell_type": "markdown",
   "metadata": {},
   "source": [
    "### None\n",
    "\n",
    "The Python null object is `None`. This is useful if you want to keep a variable around but don't want to assign anything to it."
   ]
  },
  {
   "cell_type": "code",
   "execution_count": 41,
   "metadata": {},
   "outputs": [
    {
     "name": "stdout",
     "output_type": "stream",
     "text": [
      "x has no value\n"
     ]
    }
   ],
   "source": [
    "x = None\n",
    "\n",
    "# note, None is usually checked for with the \"is\" keyword, not ==\n",
    "if x is None:\n",
    "    print('x has no value')"
   ]
  },
  {
   "cell_type": "markdown",
   "metadata": {},
   "source": [
    "### Type conversions\n",
    "\n",
    "Sometimes you need to convert variables from one type to another. Python lets you do this when it's obvious what's to be done."
   ]
  },
  {
   "cell_type": "code",
   "execution_count": 42,
   "metadata": {},
   "outputs": [
    {
     "name": "stdout",
     "output_type": "stream",
     "text": [
      "<class 'float'>\n",
      "<class 'int'>\n"
     ]
    }
   ],
   "source": [
    "# convert float to int\n",
    "x = 3.0\n",
    "print(type(x))\n",
    "\n",
    "x = int(x)\n",
    "print(type(x))"
   ]
  },
  {
   "cell_type": "code",
   "execution_count": 43,
   "metadata": {},
   "outputs": [
    {
     "ename": "TypeError",
     "evalue": "list indices must be integers or slices, not float",
     "output_type": "error",
     "traceback": [
      "\u001b[0;31m---------------------------------------------------------------------------\u001b[0m",
      "\u001b[0;31mTypeError\u001b[0m                                 Traceback (most recent call last)",
      "\u001b[0;32m<ipython-input-43-376e04c356d6>\u001b[0m in \u001b[0;36m<module>\u001b[0;34m()\u001b[0m\n\u001b[1;32m      1\u001b[0m \u001b[0;31m# float --> int conversion can be useful when indexing lists/arrays, e.g.\u001b[0m\u001b[0;34m\u001b[0m\u001b[0;34m\u001b[0m\u001b[0;34m\u001b[0m\u001b[0m\n\u001b[1;32m      2\u001b[0m \u001b[0mmy_list\u001b[0m \u001b[0;34m=\u001b[0m \u001b[0;34m[\u001b[0m\u001b[0;34m'a'\u001b[0m\u001b[0;34m,\u001b[0m \u001b[0;34m'b'\u001b[0m\u001b[0;34m,\u001b[0m \u001b[0;34m'c'\u001b[0m\u001b[0;34m,\u001b[0m \u001b[0;34m'd'\u001b[0m\u001b[0;34m,\u001b[0m \u001b[0;34m'e'\u001b[0m\u001b[0;34m]\u001b[0m\u001b[0;34m\u001b[0m\u001b[0;34m\u001b[0m\u001b[0m\n\u001b[0;32m----> 3\u001b[0;31m \u001b[0mprint\u001b[0m\u001b[0;34m(\u001b[0m\u001b[0mmy_list\u001b[0m\u001b[0;34m[\u001b[0m\u001b[0;36m3.0\u001b[0m\u001b[0;34m]\u001b[0m\u001b[0;34m)\u001b[0m\u001b[0;34m\u001b[0m\u001b[0;34m\u001b[0m\u001b[0m\n\u001b[0m",
      "\u001b[0;31mTypeError\u001b[0m: list indices must be integers or slices, not float"
     ]
    }
   ],
   "source": [
    "# float --> int conversion can be useful when indexing lists/arrays, e.g.\n",
    "my_list = ['a', 'b', 'c', 'd', 'e']\n",
    "print(my_list[3.0])"
   ]
  },
  {
   "cell_type": "code",
   "execution_count": 44,
   "metadata": {},
   "outputs": [
    {
     "name": "stdout",
     "output_type": "stream",
     "text": [
      "d\n"
     ]
    }
   ],
   "source": [
    "print(my_list[int(3.0)])"
   ]
  },
  {
   "cell_type": "code",
   "execution_count": 45,
   "metadata": {},
   "outputs": [
    {
     "name": "stdout",
     "output_type": "stream",
     "text": [
      "3\n",
      "3.5\n"
     ]
    }
   ],
   "source": [
    "# numeric to str\n",
    "print(str(3))\n",
    "print(str(3.5))"
   ]
  },
  {
   "cell_type": "code",
   "execution_count": 46,
   "metadata": {},
   "outputs": [
    {
     "name": "stdout",
     "output_type": "stream",
     "text": [
      "3\n",
      "3.5\n"
     ]
    }
   ],
   "source": [
    "# str to numeric\n",
    "print(int('3'))\n",
    "print(float('3.5'))"
   ]
  },
  {
   "cell_type": "markdown",
   "metadata": {},
   "source": [
    "# Installing packages\n",
    "\n",
    "You can install packages not included with your installation using `!conda install -y package_name` in a Jupyter notebook cell. For example we can install `django` (a Python web framework package) using the following. Note that it can take a minute or two since its has to be downloaded and installed. Also note that unless you change computers you only need to install a package once (i.e. only run the cell once)."
   ]
  },
  {
   "cell_type": "code",
   "execution_count": 21,
   "metadata": {},
   "outputs": [
    {
     "name": "stdout",
     "output_type": "stream",
     "text": [
      "Solving environment: done\n",
      "\n",
      "\n",
      "==> WARNING: A newer version of conda exists. <==\n",
      "  current version: 4.5.4\n",
      "  latest version: 4.5.11\n",
      "\n",
      "Please update conda by running\n",
      "\n",
      "    $ conda update -n base conda\n",
      "\n",
      "\n",
      "\n",
      "## Package Plan ##\n",
      "\n",
      "  environment location: /home/melete/miniconda3/envs/py3\n",
      "\n",
      "  added / updated specs: \n",
      "    - django\n",
      "\n",
      "\n",
      "The following packages will be downloaded:\n",
      "\n",
      "    package                    |            build\n",
      "    ---------------------------|-----------------\n",
      "    certifi-2018.10.15         |           py36_0         139 KB\n",
      "    qt-4.8.7                   |                2        34.1 MB\n",
      "    django-2.1.2               |           py36_0         4.8 MB\n",
      "    python-3.6.7               |       h0371630_0        34.3 MB\n",
      "    openssl-1.1.1              |       h7b6447c_0         5.0 MB\n",
      "    cryptography-2.3.1         |   py36h1ba5d50_2         596 KB\n",
      "    ------------------------------------------------------------\n",
      "                                           Total:        79.0 MB\n",
      "\n",
      "The following NEW packages will be INSTALLED:\n",
      "\n",
      "    django:       2.1.2-py36_0        \n",
      "\n",
      "The following packages will be UPDATED:\n",
      "\n",
      "    certifi:      2018.8.24-py36_1     --> 2018.10.15-py36_0   \n",
      "    cryptography: 2.3.1-py36hc365091_0 --> 2.3.1-py36h1ba5d50_2\n",
      "    openssl:      1.0.2p-h14c3975_0    --> 1.1.1-h7b6447c_0    \n",
      "    python:       3.6.6-hc3d631a_0     --> 3.6.7-h0371630_0    \n",
      "    sqlite:       3.24.0-h84994c4_0    --> 3.25.2-h7b6447c_0   \n",
      "\n",
      "The following packages will be DOWNGRADED:\n",
      "\n",
      "    qt:           5.9.6-h8703b6f_2     --> 4.8.7-2             \n",
      "\n",
      "\n",
      "Downloading and Extracting Packages\n",
      "certifi-2018.10.15   |  139 KB | ####################################### | 100% \n",
      "qt-4.8.7             | 34.1 MB | ####################################### | 100% \n",
      "django-2.1.2         |  4.8 MB | ####################################### | 100% \n",
      "python-3.6.7         | 34.3 MB | ####################################### | 100% \n",
      "openssl-1.1.1        |  5.0 MB | ####################################### | 100% \n",
      "cryptography-2.3.1   |  596 KB | ####################################### | 100% \n",
      "Preparing transaction: done\n",
      "Verifying transaction: done\n",
      "Executing transaction: done\n"
     ]
    }
   ],
   "source": [
    "!conda install -y django"
   ]
  },
  {
   "cell_type": "code",
   "execution_count": 22,
   "metadata": {},
   "outputs": [
    {
     "name": "stdout",
     "output_type": "stream",
     "text": [
      "2.1.2\n"
     ]
    }
   ],
   "source": [
    "# test that django was successfully installed\n",
    "import django\n",
    "print(django.__version__)"
   ]
  },
  {
   "cell_type": "markdown",
   "metadata": {},
   "source": [
    "Note that Anaconda automatically includes a huge list of useful packages for computational science, so you probably won't need to install anything new."
   ]
  }
 ],
 "metadata": {
  "kernelspec": {
   "display_name": "Python 3",
   "language": "python",
   "name": "python3"
  },
  "language_info": {
   "codemirror_mode": {
    "name": "ipython",
    "version": 3
   },
   "file_extension": ".py",
   "mimetype": "text/x-python",
   "name": "python",
   "nbconvert_exporter": "python",
   "pygments_lexer": "ipython3",
   "version": "3.6.7"
  }
 },
 "nbformat": 4,
 "nbformat_minor": 2
}
