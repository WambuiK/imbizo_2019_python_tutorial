{
 "cells": [
  {
   "cell_type": "markdown",
   "metadata": {},
   "source": [
    "# Basic Python"
   ]
  },
  {
   "cell_type": "markdown",
   "metadata": {},
   "source": [
    "Write and run a cell that prints out the first 20 even terms in the Fibonacci sequence, where:\n",
    "\n",
    "$a_0 = a_1 = 1$\n",
    "\n",
    "$a_{n+1} = a_n + a_{n-1}$\n",
    "\n",
    "(Oh, btw, you can put TeX equations in Jupyter cells too by surrounding them with $ symbols. What fun!)"
   ]
  },
  {
   "cell_type": "code",
   "execution_count": null,
   "metadata": {
    "collapsed": true
   },
   "outputs": [],
   "source": [
    "# solution..."
   ]
  },
  {
   "cell_type": "markdown",
   "metadata": {},
   "source": [
    "Write a function that takes a list of 10 numbers as its argument and returns the average of the top 3 values. Make sure to give it a good name, and test it with the following inputs:\n",
    "\n",
    "[0, 1, 2, 3, 4, 5, 6, 7, 8, 9]\n",
    "\n",
    "[9, 8, 7, 6, 5, 4, 3, 2, 1, 0]\n",
    "\n",
    "[1, -1, 2, -2, 3, -3, 4, -4, 5, -5]"
   ]
  },
  {
   "cell_type": "code",
   "execution_count": 1,
   "metadata": {
    "collapsed": true
   },
   "outputs": [],
   "source": [
    "# solution..."
   ]
  },
  {
   "cell_type": "markdown",
   "metadata": {},
   "source": [
    "# Scientific Python"
   ]
  },
  {
   "cell_type": "markdown",
   "metadata": {},
   "source": [
    "Create an array of the square roots of the first 5 odd integers."
   ]
  },
  {
   "cell_type": "code",
   "execution_count": null,
   "metadata": {
    "collapsed": true
   },
   "outputs": [],
   "source": [
    "# solution...\n",
    "x = np.arange(1, 11, 2) ** 0.5\n",
    "print(x)"
   ]
  },
  {
   "cell_type": "markdown",
   "metadata": {},
   "source": [
    "## Mini-project 1"
   ]
  },
  {
   "cell_type": "markdown",
   "metadata": {},
   "source": [
    "The data file noise.npy contains a 1-D time array `t` and a 1-D white noise array `x` of the same length as `t`. The data was saved in the following way:\n",
    "\n",
    "```\n",
    "save_data = {'t': t, 'x': x}\n",
    "np.save('noise.npy', np.array([save_data]))\n",
    "```\n",
    "\n",
    "1. Load the data and retrieve `t` and `x` from the file.\n",
    "2. Plot `x` vs `t` on in a figure and label the axes.\n",
    "3. How long is `t`? What is the sampling frequency (1/timestep)? (Assume `t` is in seconds.) What are the mean and standard deviation of `x`?\n",
    "4. Write a function called `smooth_ma` that takes in `x` and a time window `t_wdw` and returns a version of `x`, called `x_ma`, smoothed with a moving average (ma). E.g. if `t_wdw = 0.1` (100 ms), the value of `x_ma` at `t = 2.3` would be an average of all `x` between `t = 2.25` and `t = 2.35`. For `t < t_wdw/2`, just take the average of the values of `x` with `t >=0`. Likewise when `t > t.max() - t_wdw/2`.\n",
    "5. Using `smooth_ma`, create versions of `x` smoothed with the following time windows: 50 ms, 100 ms, 500 ms, 1 s.\n",
    "6. Create a new figure with the original `x` and all smoothed versions overlaid in different colors.\n",
    "\n",
    "Bonus: do the same loading the data from the csv file `noise.csv`."
   ]
  },
  {
   "cell_type": "code",
   "execution_count": null,
   "metadata": {
    "collapsed": true
   },
   "outputs": [],
   "source": [
    "# load data\n",
    "\n",
    "# plot"
   ]
  },
  {
   "cell_type": "code",
   "execution_count": null,
   "metadata": {
    "collapsed": true
   },
   "outputs": [],
   "source": [
    "# define smoothing function"
   ]
  },
  {
   "cell_type": "code",
   "execution_count": null,
   "metadata": {
    "collapsed": true
   },
   "outputs": [],
   "source": [
    "# define time windows to loop over\n",
    "\n",
    "# loop over time windows\n",
    "\n",
    "# plot results"
   ]
  },
  {
   "cell_type": "code",
   "execution_count": null,
   "metadata": {
    "collapsed": true
   },
   "outputs": [],
   "source": [
    "# bonus..."
   ]
  },
  {
   "cell_type": "markdown",
   "metadata": {},
   "source": [
    "## Mini-project 2\n",
    "\n",
    "Let's do some real neuroscience now. Consider a leaky integrate-and-fire neuron that takes in a time-varying input:\n",
    "\n",
    "$\\tau\\cfrac{dv}{dt} = -(v - v_{rest}) + I(t)R$\n",
    "\n",
    "$v > v_{th} \\implies v \\rightarrow v_{rest}$\n",
    "\n",
    "\n",
    "Using the simulation section in [2_scientific_python](2_scientific_python.ipynb) as a guide, do the following:\n",
    "\n",
    "1. Write a function that takes in: (1) a time-varying current input `i`, (2) an numerical integration timestep `DT`, (3) a dict of other params `{'V_REST' = -0.068, 'TAU': 0.03, 'V_TH': -0.04, 'R': 20e6}`; and returns (1) a 1-D time array `t`, a 1-D voltage array `v`, and a 1-D array `spks` that is zero everywhere but has 1 at the time of spikes.\n",
    "\n",
    "2. Test your function by driving a simulated neuron with a constant `I(t) = 1.5 nA` for 10 seconds, with `DT = 0.001` (1 ms). Plot the resulting voltages and spikes. Label the axes, add a legend indicating the voltage and spikes, and put the time-averaged firing rate in the axis title.\n",
    "\n",
    "3. Test your function by driving a simulated neuron with a \"white-noise\" `I(t)` of 10 second duration, i.e. where each element of `I` is a Gaussian distributed random variable with mean 0 and STD `1.5 nA`. Make a (2 x 1) axis array where the top axis shows `I(t)` and the bottom axis shows the voltage and spike responses. Label all axes and put the time-averaged firing rate in the title of the bottom axis showing the voltage/spikes.\n",
    "\n",
    "4. Loop over 50 evenly spaced STDs of `I(t)`, from 0.5 nA to 5 nA, with mean 0. Make a plot showing average firing rate vs. the STD of `I(t)`. Repeat for two other values of `TAU` of your choosing, and plot them on the same plot with different colors."
   ]
  },
  {
   "cell_type": "code",
   "execution_count": null,
   "metadata": {
    "collapsed": true
   },
   "outputs": [],
   "source": [
    "# define LIF response function"
   ]
  },
  {
   "cell_type": "code",
   "execution_count": null,
   "metadata": {
    "collapsed": true
   },
   "outputs": [],
   "source": [
    "# drive neuron with constant current input\n",
    "\n",
    "# calc avg firing rate\n",
    "\n",
    "# make plot"
   ]
  },
  {
   "cell_type": "code",
   "execution_count": null,
   "metadata": {
    "collapsed": true
   },
   "outputs": [],
   "source": [
    "# drive neuron with white noise current input\n",
    "\n",
    "# calc avg firing rate\n",
    "\n",
    "# make plot"
   ]
  },
  {
   "cell_type": "code",
   "execution_count": null,
   "metadata": {
    "collapsed": true
   },
   "outputs": [],
   "source": [
    "# define TAUs\n",
    "\n",
    "# define current input STDs\n",
    "\n",
    "# loop over TAUs\n",
    "for ...\n",
    "    # loop over current input stds\n",
    "    for ...\n",
    "        # make current input\n",
    "\n",
    "        # drive neuron with current input\n",
    "\n",
    "        # calc avg firing rate\n",
    "\n",
    "        # store avg firing rate\n",
    "        \n",
    "# plot firing rate vs current input STD\n"
   ]
  }
 ],
 "metadata": {
  "kernelspec": {
   "display_name": "Python 3",
   "language": "python",
   "name": "python3"
  },
  "language_info": {
   "codemirror_mode": {
    "name": "ipython",
    "version": 3
   },
   "file_extension": ".py",
   "mimetype": "text/x-python",
   "name": "python",
   "nbconvert_exporter": "python",
   "pygments_lexer": "ipython3",
   "version": "3.6.0"
  }
 },
 "nbformat": 4,
 "nbformat_minor": 2
}
