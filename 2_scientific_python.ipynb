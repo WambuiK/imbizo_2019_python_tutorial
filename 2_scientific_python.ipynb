{
 "cells": [
  {
   "cell_type": "markdown",
   "metadata": {
    "collapsed": true
   },
   "source": [
    "In this notebook we go over the basics of using Python for scientific purposes. The chief libraries used by the scientific Python community are `numpy` (numerical Python, as introduced in in [1_basic_python](1_basic_python.ipynb)), `matplotlib.pyplot` (plotting), and `scipy` (statistics and other scientific functions not covered by `numpy`)."
   ]
  },
  {
   "cell_type": "markdown",
   "metadata": {},
   "source": [
    "# arrays\n",
    "We'll start with some of `numpy`'s useful features."
   ]
  },
  {
   "cell_type": "code",
   "execution_count": 3,
   "metadata": {
    "collapsed": true
   },
   "outputs": [],
   "source": [
    "# renaming numpy to np on import is standard convention in scientific Python\n",
    "import numpy as np"
   ]
  },
  {
   "cell_type": "markdown",
   "metadata": {},
   "source": [
    "## 1-dimensional arrays"
   ]
  },
  {
   "cell_type": "markdown",
   "metadata": {},
   "source": [
    "A 1-D numpy array is like a list, but it's much easier to perform operations over the whole array instead of on individual elements. Numpy arrays usually consist of elements that are all of the same type (e.g. int or float)."
   ]
  },
  {
   "cell_type": "code",
   "execution_count": 4,
   "metadata": {
    "collapsed": false
   },
   "outputs": [
    {
     "name": "stdout",
     "output_type": "stream",
     "text": [
      "[0.1 0.2 1.  5. ]\n",
      "[3.1 3.2 4.  8. ]\n",
      "[-2.9 -2.8 -2.   2. ]\n",
      "[ 0.3  0.6  3.  15. ]\n",
      "[0.03333333 0.06666667 0.33333333 1.66666667]\n",
      "[1.00e-03 8.00e-03 1.00e+00 1.25e+02]\n",
      "\n",
      "The dimension of x is 1\n"
     ]
    }
   ],
   "source": [
    "# basic numpy arrays can be created as follows:\n",
    "x = np.array([.1, .2, 1, 5])\n",
    "\n",
    "print(x)\n",
    "\n",
    "# they can be manipulated with normal mathematical operations\n",
    "print(x + 3)\n",
    "print(x - 3)\n",
    "print(x * 3)\n",
    "print(x / 3)\n",
    "print(x ** 3)\n",
    "\n",
    "# check the dimension of x with \"x.ndim\"\n",
    "print('')\n",
    "print('The dimension of x is', x.ndim)"
   ]
  },
  {
   "cell_type": "markdown",
   "metadata": {},
   "source": [
    "Unlike MATLAB, by default all operations between 2 or more arrays are \"element-wise\", meaning that the operation is applied to every pair of elements (i.e. vector/matrix multiplication is not assumed by default—we'll get to that in a minute)."
   ]
  },
  {
   "cell_type": "code",
   "execution_count": 5,
   "metadata": {
    "collapsed": false
   },
   "outputs": [
    {
     "name": "stdout",
     "output_type": "stream",
     "text": [
      "[ 2.1  3.2  5.  10. ]\n",
      "[0.05       0.06666667 0.25       1.        ]\n",
      "[1.000e-02 8.000e-03 1.000e+00 3.125e+03]\n"
     ]
    }
   ],
   "source": [
    "y = np.array([2, 3, 4, 5])\n",
    "\n",
    "print(x + y)\n",
    "print(x / y)\n",
    "print(x ** y)"
   ]
  },
  {
   "cell_type": "code",
   "execution_count": 6,
   "metadata": {
    "collapsed": false
   },
   "outputs": [
    {
     "ename": "ValueError",
     "evalue": "operands could not be broadcast together with shapes (4,) (5,) ",
     "output_type": "error",
     "traceback": [
      "\u001b[0;31m---------------------------------------------------------------------------\u001b[0m",
      "\u001b[0;31mValueError\u001b[0m                                Traceback (most recent call last)",
      "\u001b[0;32m<ipython-input-6-84de308ced2b>\u001b[0m in \u001b[0;36m<module>\u001b[0;34m()\u001b[0m\n\u001b[1;32m      1\u001b[0m \u001b[0;31m# if you the arrays are different lengths, the operation will fail\u001b[0m\u001b[0;34m\u001b[0m\u001b[0;34m\u001b[0m\u001b[0m\n\u001b[1;32m      2\u001b[0m \u001b[0mz\u001b[0m \u001b[0;34m=\u001b[0m \u001b[0mnp\u001b[0m\u001b[0;34m.\u001b[0m\u001b[0marray\u001b[0m\u001b[0;34m(\u001b[0m\u001b[0;34m[\u001b[0m\u001b[0;36m2\u001b[0m\u001b[0;34m,\u001b[0m \u001b[0;36m3\u001b[0m\u001b[0;34m,\u001b[0m \u001b[0;36m4\u001b[0m\u001b[0;34m,\u001b[0m \u001b[0;36m5\u001b[0m\u001b[0;34m,\u001b[0m \u001b[0;36m6\u001b[0m\u001b[0;34m]\u001b[0m\u001b[0;34m)\u001b[0m\u001b[0;34m\u001b[0m\u001b[0m\n\u001b[0;32m----> 3\u001b[0;31m \u001b[0mprint\u001b[0m\u001b[0;34m(\u001b[0m\u001b[0mx\u001b[0m \u001b[0;34m+\u001b[0m \u001b[0mz\u001b[0m\u001b[0;34m)\u001b[0m\u001b[0;34m\u001b[0m\u001b[0m\n\u001b[0m",
      "\u001b[0;31mValueError\u001b[0m: operands could not be broadcast together with shapes (4,) (5,) "
     ]
    }
   ],
   "source": [
    "# if the arrays are different lengths, the operation will fail\n",
    "z = np.array([2, 3, 4, 5, 6])\n",
    "print(x + z)"
   ]
  },
  {
   "cell_type": "markdown",
   "metadata": {},
   "source": [
    "Arrays behave like lists in many respects:"
   ]
  },
  {
   "cell_type": "code",
   "execution_count": 7,
   "metadata": {
    "collapsed": false
   },
   "outputs": [
    {
     "name": "stdout",
     "output_type": "stream",
     "text": [
      "Element 2 of x is 1.0\n"
     ]
    }
   ],
   "source": [
    "# indexing\n",
    "print('Element 2 of x is', x[2])"
   ]
  },
  {
   "cell_type": "code",
   "execution_count": 8,
   "metadata": {
    "collapsed": false
   },
   "outputs": [
    {
     "name": "stdout",
     "output_type": "stream",
     "text": [
      "x has 4 elements:\n",
      "\n",
      "Element 0 is 0.1\n",
      "Element 1 is 0.2\n",
      "Element 2 is 1.0\n",
      "Element 3 is 5.0\n"
     ]
    }
   ],
   "source": [
    "# len function\n",
    "print('x has', len(x), 'elements:')\n",
    "print('')\n",
    "\n",
    "# looping over arrays\n",
    "for ctr, el in enumerate(x):\n",
    "    print('Element', ctr, 'is', el)"
   ]
  },
  {
   "cell_type": "markdown",
   "metadata": {},
   "source": [
    "Numpy provides a couple useful functions for creating patterned arrays."
   ]
  },
  {
   "cell_type": "code",
   "execution_count": 1,
   "metadata": {
    "collapsed": false
   },
   "outputs": [
    {
     "ename": "NameError",
     "evalue": "name 'np' is not defined",
     "output_type": "error",
     "traceback": [
      "\u001b[0;31m---------------------------------------------------------------------------\u001b[0m",
      "\u001b[0;31mNameError\u001b[0m                                 Traceback (most recent call last)",
      "\u001b[0;32m<ipython-input-1-9e8bb44d9b14>\u001b[0m in \u001b[0;36m<module>\u001b[0;34m()\u001b[0m\n\u001b[1;32m      1\u001b[0m \u001b[0;31m# create a sequential array from 0 to array length minus 1\u001b[0m\u001b[0;34m\u001b[0m\u001b[0;34m\u001b[0m\u001b[0m\n\u001b[0;32m----> 2\u001b[0;31m \u001b[0mt\u001b[0m \u001b[0;34m=\u001b[0m \u001b[0mnp\u001b[0m\u001b[0;34m.\u001b[0m\u001b[0marange\u001b[0m\u001b[0;34m(\u001b[0m\u001b[0;36m10\u001b[0m\u001b[0;34m)\u001b[0m\u001b[0;34m\u001b[0m\u001b[0m\n\u001b[0m\u001b[1;32m      3\u001b[0m \u001b[0mprint\u001b[0m\u001b[0;34m(\u001b[0m\u001b[0mt\u001b[0m\u001b[0;34m)\u001b[0m\u001b[0;34m\u001b[0m\u001b[0m\n\u001b[1;32m      4\u001b[0m \u001b[0;34m\u001b[0m\u001b[0m\n\u001b[1;32m      5\u001b[0m \u001b[0;31m# do the same but between two integers\u001b[0m\u001b[0;34m\u001b[0m\u001b[0;34m\u001b[0m\u001b[0m\n",
      "\u001b[0;31mNameError\u001b[0m: name 'np' is not defined"
     ]
    }
   ],
   "source": [
    "# create a sequential array from 0 to array length minus 1\n",
    "t = np.arange(10)\n",
    "print(t)\n",
    "\n",
    "# do the same but between two integers\n",
    "t = np.arange(-5, 3)\n",
    "print(t)\n",
    "\n",
    "# do the same, but with a specific step size\n",
    "t = np.arange(-5, 3, .5)\n",
    "print(t)"
   ]
  },
  {
   "cell_type": "code",
   "execution_count": 10,
   "metadata": {
    "collapsed": false
   },
   "outputs": [
    {
     "name": "stdout",
     "output_type": "stream",
     "text": [
      "[0.  0.1 0.2 0.3 0.4 0.5 0.6 0.7 0.8 0.9 1. ]\n"
     ]
    }
   ],
   "source": [
    "# create an array of linearly spaced values between two endpoints (inclusive)\n",
    "x = np.linspace(0, 1, 11)\n",
    "print(x)"
   ]
  },
  {
   "cell_type": "code",
   "execution_count": 11,
   "metadata": {
    "collapsed": false
   },
   "outputs": [
    {
     "name": "stdout",
     "output_type": "stream",
     "text": [
      "[0. 0. 0. 0. 0.]\n",
      "[1. 1. 1. 1. 1. 1. 1. 1. 1. 1.]\n",
      "[0.72290358 0.23248916 0.79716926 0.95448752]\n",
      "[-1.13805226 -0.95138687 -1.11421192 -0.95267587 -0.94980102]\n"
     ]
    }
   ],
   "source": [
    "# create an array of 5 zeros\n",
    "x_zeros = np.zeros(5)\n",
    "print(x_zeros)\n",
    "\n",
    "# create an array of 10 ones\n",
    "x_ones = np.ones(10)\n",
    "print(x_ones)\n",
    "\n",
    "# create an array of 4 random numbers between 0 and 1\n",
    "x_rand = np.random.rand(4)\n",
    "print(x_rand)\n",
    "\n",
    "# create an array of 5 Gaussian numbers with mean -1 and std .1\n",
    "x_gaus = np.random.normal(-1, .1, 5)\n",
    "print(x_gaus)"
   ]
  },
  {
   "cell_type": "markdown",
   "metadata": {},
   "source": [
    "## 2-dimensional arrays"
   ]
  },
  {
   "cell_type": "code",
   "execution_count": 13,
   "metadata": {
    "collapsed": false
   },
   "outputs": [
    {
     "name": "stdout",
     "output_type": "stream",
     "text": [
      "[[ 1.   2.   3.3]\n",
      " [ 7.   8.   9.1]\n",
      " [12.  14.2 16. ]]\n",
      "\n",
      "The dimension of x_2d is a 2\n",
      "\n",
      "The size of x is (5,)\n",
      "The size of x_2d is (3, 3)\n"
     ]
    }
   ],
   "source": [
    "# 2-D arrays (i.e. matrices) are created as follows\n",
    "x_2d = np.array([\n",
    "    [1, 2, 3.3],\n",
    "    [7, 8, 9.1],\n",
    "    [12, 14.2, 16],\n",
    "])\n",
    "\n",
    "print(x_2d)\n",
    "print('')\n",
    "print('The dimension of x_2d is', x_2d.ndim)\n",
    "\n",
    "# the shape of an array is returned by .shape\n",
    "print('')\n",
    "print('The size of x is', x.shape)\n",
    "print('The size of x_2d is', x_2d.shape)\n",
    "\n",
    "# note that len(x.shape) == x.ndim"
   ]
  },
  {
   "cell_type": "markdown",
   "metadata": {},
   "source": [
    "2-D arrays are indexed as follows:"
   ]
  },
  {
   "cell_type": "code",
   "execution_count": 14,
   "metadata": {
    "collapsed": false
   },
   "outputs": [
    {
     "name": "stdout",
     "output_type": "stream",
     "text": [
      "2.0\n",
      "\n",
      "9.1\n",
      "\n",
      "[7.  8.  9.1]\n",
      "\n",
      "[ 2.   8.  14.2]\n",
      "\n",
      "[[ 7.   8.   9.1]\n",
      " [12.  14.2 16. ]]\n",
      "\n",
      "[[ 1.   2.   3.3]\n",
      " [12.  14.2 16. ]]\n"
     ]
    }
   ],
   "source": [
    "x_2d = np.array([\n",
    "    [1, 2, 3.3],\n",
    "    [7, 8, 9.1],\n",
    "    [12, 14.2, 16],\n",
    "])\n",
    "\n",
    "# return an element at a specific (row, col) location\n",
    "print(x_2d[0, 1])\n",
    "print('')\n",
    "print(x_2d[1, 2])\n",
    "print('')\n",
    "\n",
    "# return a full row\n",
    "print(x_2d[1, :])\n",
    "print('')\n",
    "\n",
    "# return a full column\n",
    "print(x_2d[:, 1])\n",
    "print('')\n",
    "\n",
    "# return a contiguous subset of rows\n",
    "print(x_2d[1:3, :])\n",
    "print('')\n",
    "\n",
    "# return an arbitrary subset of rows\n",
    "print(x_2d[[0, 2], :])"
   ]
  },
  {
   "cell_type": "markdown",
   "metadata": {},
   "source": [
    "Note that when single rows/cols of 2-D arrays are indexed, they are returned as 1-D arrays."
   ]
  },
  {
   "cell_type": "markdown",
   "metadata": {},
   "source": [
    "As with 1-dim arrays, mathematical operations are assumed to be element-wise, even when matrices are involved."
   ]
  },
  {
   "cell_type": "code",
   "execution_count": 15,
   "metadata": {
    "collapsed": false
   },
   "outputs": [
    {
     "name": "stdout",
     "output_type": "stream",
     "text": [
      "[[ 0.   2.2 -2.7]\n",
      " [ 7.1  8.3  6.1]\n",
      " [12.7 14.4 15. ]]\n",
      "[[ -1.     0.4  -19.8 ]\n",
      " [  0.7    2.4  -27.3 ]\n",
      " [  8.4    2.84 -16.  ]]\n"
     ]
    }
   ],
   "source": [
    "x_2d = np.array([\n",
    "    [1, 2, 3.3],\n",
    "    [7, 8, 9.1],\n",
    "    [12, 14.2, 16],\n",
    "])\n",
    "\n",
    "y_2d = np.array([\n",
    "    [-1, .2, -6],\n",
    "    [.1, .3, -3],\n",
    "    [.7, .2, -1],\n",
    "])\n",
    "\n",
    "print(x_2d + y_2d)\n",
    "print(x_2d * y_2d)"
   ]
  },
  {
   "cell_type": "markdown",
   "metadata": {},
   "source": [
    "## vector and matrix multiplication\n",
    "\n",
    "1-D arrays can be converted to column or row vectors with the following syntax:"
   ]
  },
  {
   "cell_type": "code",
   "execution_count": 16,
   "metadata": {
    "collapsed": false
   },
   "outputs": [
    {
     "name": "stdout",
     "output_type": "stream",
     "text": [
      "[[ 0]\n",
      " [-1]\n",
      " [ 1]\n",
      " [-2]\n",
      " [ 2]]\n",
      "\n",
      "[[ 0 -1  1 -2  2]]\n"
     ]
    }
   ],
   "source": [
    "x_1d = np.array([0, -1, 1, -2, 2])\n",
    "\n",
    "x_col = x_1d[:, None]\n",
    "x_row = x_1d[None, :]\n",
    "\n",
    "print(x_col)\n",
    "print('')\n",
    "print(x_row)"
   ]
  },
  {
   "cell_type": "markdown",
   "metadata": {},
   "source": [
    "Vectors and matrices can be multiplied together using the '@' operator:"
   ]
  },
  {
   "cell_type": "code",
   "execution_count": 17,
   "metadata": {
    "collapsed": false
   },
   "outputs": [
    {
     "name": "stdout",
     "output_type": "stream",
     "text": [
      "[[71. 24. 24. 30. 32.]\n",
      " [48. 56. 28. 30. 44.]\n",
      " [40. 53. 27. 14. 54.]\n",
      " [47. 50. 26. 28. 38.]\n",
      " [13. -1.  4.  3. 21.]]\n",
      "\n",
      "[[-11.   1.  -3.  -8. -26.]]\n",
      "\n",
      "[[ 4.]\n",
      " [ 7.]\n",
      " [-1.]\n",
      " [ 7.]\n",
      " [-9.]]\n",
      "\n",
      "[[10]]\n",
      "\n",
      "[[ 0  0  0  0  0]\n",
      " [ 0  1 -1  2 -2]\n",
      " [ 0 -1  1 -2  2]\n",
      " [ 0  2 -2  4 -4]\n",
      " [ 0 -2  2 -4  4]]\n"
     ]
    }
   ],
   "source": [
    "a_mat = np.array([\n",
    "    [1., 6, 2., 2, 6],\n",
    "    [7, 1, 2., 3, 6],\n",
    "    [8, 2, 3, -1, -2],\n",
    "    [6, 1, 2., 3, 6],\n",
    "    [0, 1, 0, 1, -3],\n",
    "])\n",
    "\n",
    "print(a_mat @ a_mat)\n",
    "print('')\n",
    "print(x_row @ a_mat)\n",
    "print('')\n",
    "print(a_mat @ x_col)\n",
    "print('')\n",
    "print(x_row @ x_col)\n",
    "print('')\n",
    "print(x_col @ x_row)"
   ]
  },
  {
   "cell_type": "markdown",
   "metadata": {},
   "source": [
    "Note that the result is always another 2-d array.\n",
    "\n",
    "The usual rules of matrix multiplication apply, so you'll get an error if your sizes don't match up:"
   ]
  },
  {
   "cell_type": "code",
   "execution_count": 18,
   "metadata": {
    "collapsed": false
   },
   "outputs": [
    {
     "ename": "ValueError",
     "evalue": "shapes (5,5) and (1,5) not aligned: 5 (dim 1) != 1 (dim 0)",
     "output_type": "error",
     "traceback": [
      "\u001b[0;31m---------------------------------------------------------------------------\u001b[0m",
      "\u001b[0;31mValueError\u001b[0m                                Traceback (most recent call last)",
      "\u001b[0;32m<ipython-input-18-6cca76e3d6bd>\u001b[0m in \u001b[0;36m<module>\u001b[0;34m()\u001b[0m\n\u001b[0;32m----> 1\u001b[0;31m \u001b[0mprint\u001b[0m\u001b[0;34m(\u001b[0m\u001b[0ma_mat\u001b[0m \u001b[0;34m@\u001b[0m \u001b[0mx_row\u001b[0m\u001b[0;34m)\u001b[0m\u001b[0;34m\u001b[0m\u001b[0m\n\u001b[0m",
      "\u001b[0;31mValueError\u001b[0m: shapes (5,5) and (1,5) not aligned: 5 (dim 1) != 1 (dim 0)"
     ]
    }
   ],
   "source": [
    "print(a_mat @ x_row)"
   ]
  },
  {
   "cell_type": "markdown",
   "metadata": {},
   "source": [
    "## other useful array operations"
   ]
  },
  {
   "cell_type": "markdown",
   "metadata": {},
   "source": [
    "Transpose (only works for 2D arrays)"
   ]
  },
  {
   "cell_type": "code",
   "execution_count": 82,
   "metadata": {
    "collapsed": false
   },
   "outputs": [
    {
     "name": "stdout",
     "output_type": "stream",
     "text": [
      "[[1 2 3]\n",
      " [4 5 6]\n",
      " [7 8 9]]\n",
      "\n",
      "[[1 4 7]\n",
      " [2 5 8]\n",
      " [3 6 9]]\n",
      "\n",
      "[[1 4 7]\n",
      " [2 5 8]\n",
      " [3 6 9]]\n",
      "\n"
     ]
    }
   ],
   "source": [
    "x = np.array([\n",
    "    [1, 2, 3],\n",
    "    [4, 5, 6],\n",
    "    [7, 8, 9],\n",
    "])\n",
    "print(x)\n",
    "print('')\n",
    "\n",
    "print(np.transpose(x))\n",
    "print('')\n",
    "\n",
    "# equivalent shortcut\n",
    "print(x.T)\n",
    "print('')"
   ]
  },
  {
   "cell_type": "markdown",
   "metadata": {},
   "source": [
    "Max and argmax:"
   ]
  },
  {
   "cell_type": "code",
   "execution_count": 19,
   "metadata": {
    "collapsed": false
   },
   "outputs": [
    {
     "name": "stdout",
     "output_type": "stream",
     "text": [
      "10.6\n",
      "\n",
      "[ 7.7  3.2  5.1 10.6]\n",
      "[ 6.2  3.4 10.6]\n",
      "\n",
      "[2 0 0 2]\n",
      "[3 2 3]\n"
     ]
    }
   ],
   "source": [
    "x = np.array([\n",
    "    [1.5, 3.2, 5.1, 6.2],\n",
    "    [1.1, -1.2, 3.4, 1.5],\n",
    "    [7.7, 1.5, 2.2, 10.6],\n",
    "])\n",
    "\n",
    "print(np.max(x))\n",
    "print('')\n",
    "print(np.max(x, axis=0))\n",
    "print(np.max(x, axis=1))\n",
    "print('')\n",
    "print(np.argmax(x, axis=0))\n",
    "print(np.argmax(x, axis=1))"
   ]
  },
  {
   "cell_type": "markdown",
   "metadata": {},
   "source": [
    "Min and argmin:"
   ]
  },
  {
   "cell_type": "code",
   "execution_count": 20,
   "metadata": {
    "collapsed": false
   },
   "outputs": [
    {
     "name": "stdout",
     "output_type": "stream",
     "text": [
      "-1.2\n",
      "\n",
      "[ 1.1 -1.2  2.2  1.5]\n",
      "[ 1.5 -1.2  1.5]\n",
      "\n",
      "[1 1 2 1]\n",
      "[0 1 1]\n"
     ]
    }
   ],
   "source": [
    "x = np.array([\n",
    "    [1.5, 3.2, 5.1, 6.2],\n",
    "    [1.1, -1.2, 3.4, 1.5],\n",
    "    [7.7, 1.5, 2.2, 10.6],\n",
    "])\n",
    "\n",
    "print(np.min(x))\n",
    "print('')\n",
    "print(np.min(x, axis=0))\n",
    "print(np.min(x, axis=1))\n",
    "print('')\n",
    "print(np.argmin(x, axis=0))\n",
    "print(np.argmin(x, axis=1))"
   ]
  },
  {
   "cell_type": "markdown",
   "metadata": {},
   "source": [
    "Means, stds, and sums"
   ]
  },
  {
   "cell_type": "code",
   "execution_count": 21,
   "metadata": {
    "collapsed": false
   },
   "outputs": [
    {
     "name": "stdout",
     "output_type": "stream",
     "text": [
      "3.566666666666667\n",
      "\n",
      "[3.43333333 1.16666667 3.56666667 6.1       ]\n",
      "[4.  1.2 5.5]\n",
      "\n",
      "3.155506650638249\n",
      "\n",
      "[3.02140512 1.81169043 1.18977122 3.71573232]\n",
      "[1.79861057 1.63554272 3.79934205]\n",
      "\n",
      "42.800000000000004\n",
      "\n",
      "[10.3  3.5 10.7 18.3]\n",
      "[16.   4.8 22. ]\n",
      "\n"
     ]
    }
   ],
   "source": [
    "x = np.array([\n",
    "    [1.5, 3.2, 5.1, 6.2],\n",
    "    [1.1, -1.2, 3.4, 1.5],\n",
    "    [7.7, 1.5, 2.2, 10.6],\n",
    "])\n",
    "\n",
    "print(np.mean(x))\n",
    "print('')\n",
    "print(np.mean(x, axis=0))\n",
    "print(np.mean(x, axis=1))\n",
    "print('')\n",
    "\n",
    "print(np.std(x))\n",
    "print('')\n",
    "print(np.std(x, axis=0))\n",
    "print(np.std(x, axis=1))\n",
    "print('')\n",
    "\n",
    "print(np.sum(x))\n",
    "print('')\n",
    "print(np.sum(x, axis=0))\n",
    "print(np.sum(x, axis=1))\n",
    "print('')"
   ]
  },
  {
   "cell_type": "markdown",
   "metadata": {},
   "source": [
    "(Note the dimension of each result.)"
   ]
  },
  {
   "cell_type": "markdown",
   "metadata": {},
   "source": [
    "Means, stds, and sums with NaN values"
   ]
  },
  {
   "cell_type": "code",
   "execution_count": 22,
   "metadata": {
    "collapsed": false
   },
   "outputs": [
    {
     "name": "stdout",
     "output_type": "stream",
     "text": [
      "2.155555555555556\n",
      "\n",
      "[1.3        1.16666667 2.8        3.85      ]\n",
      "[3.63333333 1.2        1.85      ]\n",
      "\n",
      "1.9050290817909146\n",
      "\n",
      "[0.2        1.81169043 0.6        2.35      ]\n",
      "[1.94307889 1.63554272 0.35      ]\n",
      "\n",
      "19.400000000000002\n",
      "\n",
      "[2.6 3.5 5.6 7.7]\n",
      "[10.9  4.8  3.7]\n",
      "\n"
     ]
    }
   ],
   "source": [
    "# sometimes arrays are missing data\n",
    "# in scientific Python, missing data points are indicated with \"np.nan\"\n",
    "x = np.array([\n",
    "    [1.5, 3.2, np.nan, 6.2],\n",
    "    [1.1, -1.2, 3.4, 1.5],\n",
    "    [np.nan, 1.5, 2.2, np.nan],\n",
    "])\n",
    "\n",
    "# numpy has nanmean, nanstd, and nansum functions\n",
    "# that perform the corresponding functions with NaN values ignored\n",
    "print(np.nanmean(x))\n",
    "print('')\n",
    "print(np.nanmean(x, axis=0))\n",
    "print(np.nanmean(x, axis=1))\n",
    "print('')\n",
    "\n",
    "print(np.nanstd(x))\n",
    "print('')\n",
    "print(np.nanstd(x, axis=0))\n",
    "print(np.nanstd(x, axis=1))\n",
    "print('')\n",
    "\n",
    "print(np.nansum(x))\n",
    "print('')\n",
    "print(np.nansum(x, axis=0))\n",
    "print(np.nansum(x, axis=1))\n",
    "print('')"
   ]
  },
  {
   "cell_type": "markdown",
   "metadata": {},
   "source": [
    "Eigenvalues and vectors"
   ]
  },
  {
   "cell_type": "code",
   "execution_count": 23,
   "metadata": {
    "collapsed": false
   },
   "outputs": [
    {
     "name": "stdout",
     "output_type": "stream",
     "text": [
      "Eig vals [-2.62119438  1.30776666  4.81342772]\n",
      "\n",
      "Eig vecs:\n",
      "Eig vec 0 is [ 0.43090085 -0.61512163  0.66026497]\n",
      "Eig vec 1 is [-0.83307885  0.0100687   0.55306261]\n",
      "Eig vec 2 is [0.34684878 0.78836793 0.50810621]\n"
     ]
    }
   ],
   "source": [
    "x = np.array([\n",
    "    [1., 2, -.5],\n",
    "    [2, 2., 3],\n",
    "    [-.5, 3, .5],\n",
    "])\n",
    "\n",
    "eig_rslt = np.linalg.eig(x)\n",
    "\n",
    "eig_vals = eig_rslt[0]\n",
    "eig_vecs = eig_rslt[1]\n",
    "\n",
    "print('Eig vals', eig_vals)\n",
    "print('')\n",
    "\n",
    "# loop over eig vecs (cols of eig_rslt[1])\n",
    "print('Eig vecs:')\n",
    "for ctr in range(eig_vecs.shape[1]):\n",
    "    print('Eig vec', ctr, 'is', eig_vecs[:, ctr])"
   ]
  },
  {
   "cell_type": "markdown",
   "metadata": {},
   "source": [
    "## n-dimensional arrays\n",
    "In Python you can make arrays of arbitrary dimension as follows:"
   ]
  },
  {
   "cell_type": "code",
   "execution_count": 24,
   "metadata": {
    "collapsed": false
   },
   "outputs": [
    {
     "name": "stdout",
     "output_type": "stream",
     "text": [
      "[[[1.  2.  3. ]\n",
      "  [4.  5.  6. ]]\n",
      "\n",
      " [[6.  3.  1.3]\n",
      "  [6.  2.  1.1]]\n",
      "\n",
      " [[1.2 5.1 9.2]\n",
      "  [7.3 1.1 2. ]]]\n",
      "\n",
      "The dimension of x is 3\n",
      "The shape of x is (3, 2, 3)\n"
     ]
    }
   ],
   "source": [
    "x = np.array([\n",
    "    [\n",
    "        [1, 2, 3],\n",
    "        [4, 5, 6],\n",
    "    ],\n",
    "    \n",
    "    [\n",
    "        [6, 3, 1.3],\n",
    "        [6, 2, 1.1],\n",
    "    ],\n",
    "    \n",
    "    [\n",
    "        [1.2, 5.1, 9.2],\n",
    "        [7.3, 1.1, 2],\n",
    "    ]\n",
    "])\n",
    "\n",
    "print(x)\n",
    "print('')\n",
    "print('The dimension of x is', x.ndim)\n",
    "print('The shape of x is', x.shape)"
   ]
  },
  {
   "cell_type": "markdown",
   "metadata": {},
   "source": [
    "# logical/boolean masking\n",
    "Indexing values in an array using a mask is often more practical than identifying the numerical indices of the elements to be manipulated. This is very similar to MATLAB."
   ]
  },
  {
   "cell_type": "code",
   "execution_count": 25,
   "metadata": {
    "collapsed": false
   },
   "outputs": [
    {
     "name": "stdout",
     "output_type": "stream",
     "text": [
      "[[1 2 3]\n",
      " [4 5 6]\n",
      " [7 8 9]]\n",
      "\n",
      "[[False False False]\n",
      " [False False  True]\n",
      " [ True  True  True]]\n",
      "\n",
      "[6 7 8 9]\n",
      "\n",
      "[[1 2 3]\n",
      " [4 5 0]\n",
      " [0 0 0]]\n"
     ]
    }
   ],
   "source": [
    "x = np.array([\n",
    "    [1, 2, 3],\n",
    "    [4, 5, 6],\n",
    "    [7, 8, 9],\n",
    "])\n",
    "\n",
    "mask = (x > 5)\n",
    "\n",
    "print(x)\n",
    "print('')\n",
    "print(mask)\n",
    "print('')\n",
    "print(x[mask])  # note this returns a 1-D array\n",
    "print('')\n",
    "\n",
    "# set all masked values to zero\n",
    "x[mask] = 0\n",
    "print(x)"
   ]
  },
  {
   "cell_type": "markdown",
   "metadata": {},
   "source": [
    "# scientific notation\n",
    "\n",
    "We can denote very large or small numbers using the following syntax for scientific notation."
   ]
  },
  {
   "cell_type": "code",
   "execution_count": 84,
   "metadata": {
    "collapsed": false
   },
   "outputs": [
    {
     "name": "stdout",
     "output_type": "stream",
     "text": [
      "r = 20000000.0 Ohm\n",
      "i = 1e-09 Amp\n",
      "v = ir = 0.02 V\n"
     ]
    }
   ],
   "source": [
    "r = 20e6  # 20 mega ohm resistance\n",
    "i = 1e-9  # 1 nano-amp current\n",
    "print('r =', r, 'Ohm')\n",
    "print('i =', i, 'Amp')\n",
    "\n",
    "print('v = ir =', i*r, 'V')"
   ]
  },
  {
   "cell_type": "markdown",
   "metadata": {},
   "source": [
    "# plotting\n",
    "\n",
    "This is science, let's plot stuff!\n",
    "\n",
    "Tell Jupyter to show inline plots then import the main plotting library."
   ]
  },
  {
   "cell_type": "code",
   "execution_count": 26,
   "metadata": {
    "collapsed": true
   },
   "outputs": [],
   "source": [
    "%matplotlib inline\n",
    "import matplotlib.pyplot as plt"
   ]
  },
  {
   "cell_type": "markdown",
   "metadata": {},
   "source": [
    "Plot a few different curves:"
   ]
  },
  {
   "cell_type": "code",
   "execution_count": 37,
   "metadata": {
    "collapsed": false
   },
   "outputs": [
    {
     "name": "stderr",
     "output_type": "stream",
     "text": [
      "/home/melete/miniconda3/envs/py3/lib/python3.6/site-packages/matplotlib/figure.py:2299: UserWarning: This figure includes Axes that are not compatible with tight_layout, so results might be incorrect.\n",
      "  warnings.warn(\"This figure includes Axes that are not compatible \"\n"
     ]
    },
    {
     "data": {
      "image/png": "[encoded data removed]",
      "text/plain": [
       "<Figure size 648x432 with 6 Axes>"
      ]
     },
     "metadata": {},
     "output_type": "display_data"
    }
   ],
   "source": [
    "# independent variable\n",
    "x = np.linspace(-1, 1, 50)  # 50 evenly spaced values from -1 to 1\n",
    "# dependent variables\n",
    "ys = [np.sin(x), np.cos(x), x**2, x**3, x**4, x**5]\n",
    "\n",
    "# make a figure and (2 row, 3 col) axis array 12\" wide and 6\" tall\n",
    "fig, axs = plt.subplots(2, 3, figsize=(9, 6), tight_layout=True, squeeze=False)\n",
    "# (squeeze=False makes it so axs is always a 2D array)\n",
    "# (tight_layout is a flag matplotlib uses to better automaticalyl align figure layout)\n",
    "\n",
    "y_ctr = 0\n",
    "# loop over rows of axs array\n",
    "for ax_row in axs:\n",
    "    # loop over axes in ax_row\n",
    "    for ax in ax_row:\n",
    "        \n",
    "        # plot y vs x for this axis\n",
    "        y = ys[y_ctr]\n",
    "        ax.plot(x, y, c='r', lw=3, ls='-')\n",
    "        \n",
    "        # set limits\n",
    "        ax.set_ylim(-1, 1)\n",
    "        \n",
    "        # label axis\n",
    "        ax.set_xlabel('X')\n",
    "        ax.set_ylabel('Y')\n",
    "        ax.set_title('Y_' + str(y_ctr) + ' vs X')\n",
    "        \n",
    "        # turn on grid\n",
    "        ax.grid()\n",
    "        \n",
    "        # increment y_ctr\n",
    "        y_ctr += 1  # shortcut for y_ctr = y_ctr + 1\n",
    "        \n",
    "# note: don't worry about the warning"
   ]
  },
  {
   "cell_type": "code",
   "execution_count": 41,
   "metadata": {
    "collapsed": false
   },
   "outputs": [
    {
     "data": {
      "text/plain": [
       "<matplotlib.legend.Legend at 0x7f2e582aee80>"
      ]
     },
     "execution_count": 41,
     "metadata": {},
     "output_type": "execute_result"
    },
    {
     "name": "stderr",
     "output_type": "stream",
     "text": [
      "/home/melete/miniconda3/envs/py3/lib/python3.6/site-packages/matplotlib/figure.py:2299: UserWarning: This figure includes Axes that are not compatible with tight_layout, so results might be incorrect.\n",
      "  warnings.warn(\"This figure includes Axes that are not compatible \"\n"
     ]
    },
    {
     "data": {
      "image/png": "[encoded data removed]",
      "text/plain": [
       "<Figure size 720x720 with 1 Axes>"
      ]
     },
     "metadata": {},
     "output_type": "display_data"
    }
   ],
   "source": [
    "# we can also plot multiple curves on one axis\n",
    "fig, ax = plt.subplots(1, 1, figsize=(10, 10), tight_layout=True)\n",
    "# when squeeze is not specified and axis array size is (1, 1), only an axis is returned, not an array\n",
    "\n",
    "cs = ['k', 'r', 'g', 'b', 'c', 'm']\n",
    "\n",
    "for y, c in zip(ys, cs):\n",
    "    \n",
    "    # let's do a scatter plot this time\n",
    "    ax.scatter(x, y, c=c, s=30, marker='^')  # s specifies marker size\n",
    "    \n",
    "ax.set_xlabel('x', fontsize=16)\n",
    "ax.set_ylabel('y', fontsize=16)\n",
    "\n",
    "# add a legend\n",
    "ax.legend(['y_0', 'y_1', 'y_2', 'y_3', 'y_4', 'y_5'], fontsize=16)"
   ]
  },
  {
   "cell_type": "code",
   "execution_count": 43,
   "metadata": {
    "collapsed": false
   },
   "outputs": [
    {
     "data": {
      "text/plain": [
       "Text(0,0.5,'y')"
      ]
     },
     "execution_count": 43,
     "metadata": {},
     "output_type": "execute_result"
    },
    {
     "name": "stderr",
     "output_type": "stream",
     "text": [
      "/home/melete/miniconda3/envs/py3/lib/python3.6/site-packages/matplotlib/figure.py:2299: UserWarning: This figure includes Axes that are not compatible with tight_layout, so results might be incorrect.\n",
      "  warnings.warn(\"This figure includes Axes that are not compatible \"\n"
     ]
    },
    {
     "data": {
      "image/png": "[encoded data removed]",
      "text/plain": [
       "<Figure size 720x720 with 1 Axes>"
      ]
     },
     "metadata": {},
     "output_type": "display_data"
    }
   ],
   "source": [
    "# we can hide values by setting them to nan in the x or y arrays we're plotting\n",
    "ys[0][(x > -.3) & (x < .5)] = np.nan\n",
    "\n",
    "fig, ax = plt.subplots(1, 1, figsize=(10, 10), tight_layout=True)\n",
    "\n",
    "ax.scatter(x, ys[0], c='b', s=30, marker='^')  # s specifies marker size\n",
    "ax.set_xlabel('x', fontsize=16)\n",
    "ax.set_ylabel('y', fontsize=16)"
   ]
  },
  {
   "cell_type": "markdown",
   "metadata": {},
   "source": [
    "Matplotlib can make an extremely flexible diversity of plots, so check out [https://matplotlib.org/gallery.html](https://matplotlib.org/gallery.html) to find out how to make specific types, like heatmaps, bar charts, contour plots, etc. The above shows the basic idea behind plotting."
   ]
  },
  {
   "cell_type": "markdown",
   "metadata": {},
   "source": [
    "# simulations"
   ]
  },
  {
   "cell_type": "markdown",
   "metadata": {},
   "source": [
    "The following shows how a basic simulation can be implemented in Python, something we'll frequently need to do. We'll simulate a leaky integrate-and-fire (LIF) neuron responding to a constant current input.\n",
    "\n",
    "An LIF neuron obeys the following eqn:\n",
    "\n",
    "$\\tau\\cfrac{dv}{dt} = -(v - v_{rest}) + IR$\n",
    "\n",
    "$v > v_{th} \\implies v \\rightarrow v_{rest}$\n",
    "\n",
    "where $v$ is the membrane voltage, $v_{rest}$ is the resting potential, and $I$ is a constant current input, and R the membrane resistance. When $v$ crosses a \"spike\" threshold $v_{th}$, we note the neuron has spiked and reset $v$ to $v_{rest}$.\n",
    "\n",
    "This can be discretized as\n",
    "\n",
    "$\\tau\\cfrac{v_{n+1} - v_n}{\\Delta t} = -(v_n - v_{rest}) + IR$\n",
    "\n",
    "or\n",
    "\n",
    "$v_{n+1} = v_n + \\cfrac{\\Delta t}{\\tau}\\left[-(v_n - v_{rest}) + IR\\right]$ .\n",
    "\n",
    "$v_{n+1} > v_{th} \\implies v_{n+1} \\rightarrow v_{rest}$\n",
    "\n",
    "We can simulate it with a for loop:"
   ]
  },
  {
   "cell_type": "code",
   "execution_count": 53,
   "metadata": {
    "collapsed": false
   },
   "outputs": [
    {
     "data": {
      "text/plain": [
       "Text(0.5,1,'Basic LIF neuron simulation')"
      ]
     },
     "execution_count": 53,
     "metadata": {},
     "output_type": "execute_result"
    },
    {
     "data": {
      "image/png": "[encoded data removed]",
      "text/plain": [
       "<Figure size 864x288 with 1 Axes>"
      ]
     },
     "metadata": {},
     "output_type": "display_data"
    }
   ],
   "source": [
    "DT = 0.001  # use 1 ms numerical integration time\n",
    "V_REST = -0.068  # rest potential (V)\n",
    "TAU = 0.03  # 30 ms time constant\n",
    "V_TH = -0.04  # spike threshold\n",
    "IR = .03  # input current-resistance product (V)\n",
    "\n",
    "ts = np.arange(0, 2, DT)  # simulate for 2 seconds\n",
    "\n",
    "vs = np.nan * np.zeros(len(ts))  # initialize voltage array\n",
    "\n",
    "vs[0] = V_REST  # start at V_REST\n",
    "spk_times = []  # list of spike times\n",
    "\n",
    "# run smln\n",
    "for t_ctr, t in enumerate(ts):\n",
    "    \n",
    "    # break if we're at the end\n",
    "    if t_ctr == len(ts) - 1:\n",
    "        break\n",
    "        \n",
    "    # update voltage\n",
    "    v_n = vs[t_ctr]\n",
    "    vs[t_ctr+1] = v_n + (DT/TAU) * (-(v_n - V_REST) + IR)\n",
    "    \n",
    "    # check for spike\n",
    "    if vs[t_ctr+1] > V_TH:\n",
    "        # reset v\n",
    "        vs[t_ctr+1] = V_REST\n",
    "        # note time of spike\n",
    "        spk_times.append(t)\n",
    "        \n",
    "\n",
    "# plot response\n",
    "fig, ax = plt.subplots(1, 1, figsize=(12, 4))\n",
    "\n",
    "# voltages\n",
    "ax.plot(ts, vs, c='k', lw=2)\n",
    "\n",
    "# spikes\n",
    "y_spk = -0.03\n",
    "ax.scatter(spk_times, y_spk*np.ones(len(spk_times)), c='r')\n",
    "\n",
    "# rest potential and spike threshold\n",
    "ax.axhline(V_REST, c='gray', alpha=0.5, ls='--')\n",
    "ax.axhline(V_TH, c='r', alpha=0.5, ls='--')\n",
    "\n",
    "ax.set_xlabel('time (s)')\n",
    "ax.set_ylabel('Vm (V)')\n",
    "ax.set_title('Basic LIF neuron simulation')"
   ]
  },
  {
   "cell_type": "markdown",
   "metadata": {},
   "source": [
    "# saving and loading results"
   ]
  },
  {
   "cell_type": "markdown",
   "metadata": {},
   "source": [
    "Sometimes you want to store or load variables on your hard drive so your results can persist when the notebook shuts down. The easiest way to do this is using `np.save` and `np.load`."
   ]
  },
  {
   "cell_type": "code",
   "execution_count": 2,
   "metadata": {
    "collapsed": true
   },
   "outputs": [],
   "source": [
    "import numpy as np"
   ]
  },
  {
   "cell_type": "code",
   "execution_count": 6,
   "metadata": {
    "collapsed": false
   },
   "outputs": [
    {
     "name": "stdout",
     "output_type": "stream",
     "text": [
      "x = [ 0  1  4  9 16 25 36 49 64 81]\n",
      "\n",
      "y = [0.  0.1 0.4 0.9 1.6 2.5 3.6 4.9 6.4 8.1]\n",
      "\n",
      "z =\n",
      "[[ 0  1  2  3  4]\n",
      " [ 5  6  7  8  9]\n",
      " [10 11 12 13 14]\n",
      " [15 16 17 18 19]]\n",
      "\n",
      "w =\n",
      "['a', 2, array([4, 4, 3]), None, 5]\n",
      "\n",
      "x_loaded = [ 0  1  4  9 16 25 36 49 64 81]\n",
      "\n",
      "y_loaded = [0.  0.1 0.4 0.9 1.6 2.5 3.6 4.9 6.4 8.1]\n",
      "\n",
      "z_loaded =\n",
      "[[ 0  1  2  3  4]\n",
      " [ 5  6  7  8  9]\n",
      " [10 11 12 13 14]\n",
      " [15 16 17 18 19]]\n",
      "\n",
      "w_loaded =\n",
      "['a', 2, array([4, 4, 3]), None, 5]\n"
     ]
    }
   ],
   "source": [
    "x = np.arange(10) ** 2\n",
    "print('x =', x)\n",
    "print('')\n",
    "\n",
    "y = x/10\n",
    "print('y =', y)\n",
    "print('')\n",
    "\n",
    "z = np.arange(20).reshape((4, 5))\n",
    "print('z =')\n",
    "print(z)\n",
    "print('')\n",
    "\n",
    "w = ['a', 2, np.array([4, 4, 3]), None, 5]  # we can save arbitrary data types like a list\n",
    "print('w =')\n",
    "print(w)\n",
    "print('')\n",
    "\n",
    "# save data\n",
    "# make data array/dict (this is a bit weird, but is the simplest way and essentially always works)\n",
    "save_data = np.array([\n",
    "    {'x': x, 'y': y, 'z': z, 'w': w}\n",
    "])\n",
    "np.save('my_data.npy', save_data)\n",
    "\n",
    "# load data\n",
    "load_data = np.load('my_data.npy')[0]\n",
    "\n",
    "x_loaded = load_data['x']\n",
    "y_loaded = load_data['y']\n",
    "z_loaded = load_data['z']\n",
    "w_loaded = load_data['w']\n",
    "\n",
    "print('x_loaded =', x_loaded)\n",
    "print('')\n",
    "print('y_loaded =', y_loaded)\n",
    "print('')\n",
    "print('z_loaded =')\n",
    "print(z_loaded)\n",
    "print('')\n",
    "print('w_loaded =')\n",
    "print(w_loaded)\n",
    "\n",
    "# look in the tutorial directory now -- you should see a new file called my_data.npy"
   ]
  },
  {
   "cell_type": "markdown",
   "metadata": {},
   "source": [
    "# statistics"
   ]
  },
  {
   "cell_type": "markdown",
   "metadata": {},
   "source": [
    "You can find most statistical tests in scipy.stats.\n",
    "\n",
    "For example, to run a t-test to determine whether two sample means are different you can use `stats.ttest_ind`:"
   ]
  },
  {
   "cell_type": "code",
   "execution_count": 75,
   "metadata": {
    "collapsed": false
   },
   "outputs": [
    {
     "name": "stdout",
     "output_type": "stream",
     "text": [
      "T =  -5.374970688110928\n",
      "P =  1.6117725163868018e-07\n"
     ]
    },
    {
     "name": "stderr",
     "output_type": "stream",
     "text": [
      "/home/melete/miniconda3/envs/py3/lib/python3.6/site-packages/matplotlib/axes/_axes.py:6571: UserWarning: The 'normed' kwarg is deprecated, and has been replaced by the 'density' kwarg.\n",
      "  warnings.warn(\"The 'normed' kwarg is deprecated, and has been \"\n",
      "/home/melete/miniconda3/envs/py3/lib/python3.6/site-packages/matplotlib/figure.py:2299: UserWarning: This figure includes Axes that are not compatible with tight_layout, so results might be incorrect.\n",
      "  warnings.warn(\"This figure includes Axes that are not compatible \"\n"
     ]
    },
    {
     "data": {
      "image/png": "[encoded data removed]",
      "text/plain": [
       "<Figure size 864x360 with 1 Axes>"
      ]
     },
     "metadata": {},
     "output_type": "display_data"
    }
   ],
   "source": [
    "from scipy import stats\n",
    "\n",
    "# make two fake populations\n",
    "x_0 = np.random.normal(0, 1, 100)\n",
    "x_1 = np.random.normal(1, 3, 200)\n",
    "\n",
    "# plot histograms\n",
    "fig, ax = plt.subplots(1, 1, figsize=(12, 5), tight_layout=True)\n",
    "ax.hist(x_0, bins=20, color='r', alpha=0.5, normed=True)\n",
    "ax.hist(x_1, bins=20, color='b', alpha=0.5, normed=True)\n",
    "\n",
    "ax.legend(['x_0', 'x_1'])\n",
    "\n",
    "t_val, p_val = stats.ttest_ind(x_0, x_1, equal_var=False)\n",
    "\n",
    "print('T = ', t_val)\n",
    "print('P = ', p_val)"
   ]
  },
  {
   "cell_type": "markdown",
   "metadata": {},
   "source": [
    "Some other common statistical tests are:\n",
    "\n",
    "[stats.ttest_1samp](https://docs.scipy.org/doc/scipy/reference/generated/scipy.stats.ttest_1samp.html)\n",
    "\n",
    "[stats.kstest](https://docs.scipy.org/doc/scipy-0.14.0/reference/generated/scipy.stats.kstest.html)\n",
    "\n",
    "[stats.ks_2samp](https://docs.scipy.org/doc/scipy-0.14.0/reference/generated/scipy.stats.ks_2samp.html)\n",
    "\n",
    "[stats.pearsonr](https://docs.scipy.org/doc/scipy-0.14.0/reference/generated/scipy.stats.pearsonr.html)\n",
    "\n",
    "[stats.spearmanr](https://docs.scipy.org/doc/scipy-0.14.0/reference/generated/scipy.stats.spearmanr.html)\n",
    "\n",
    "Most of these functions return two values: [test statistic, p-value]."
   ]
  }
 ],
 "metadata": {
  "kernelspec": {
   "display_name": "Python 3",
   "language": "python",
   "name": "python3"
  },
  "language_info": {
   "codemirror_mode": {
    "name": "ipython",
    "version": 3
   },
   "file_extension": ".py",
   "mimetype": "text/x-python",
   "name": "python",
   "nbconvert_exporter": "python",
   "pygments_lexer": "ipython3",
   "version": "3.6.0"
  }
 },
 "nbformat": 4,
 "nbformat_minor": 2
}
